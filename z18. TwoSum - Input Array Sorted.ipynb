{
 "cells": [
  {
   "cell_type": "markdown",
   "id": "d717d67c-16e8-4941-8c98-63be83380a0d",
   "metadata": {},
   "source": [
    "## Two Sum - Input Array\n",
    "\n",
    "Given a 1-indexed array of integers numbers that is already sorted in non-decreasing order, find two numbers such that they add up to a specific target number. Let these two numbers be numbers[index1] and numbers[index2] where 1 <= index1 < index2 <= numbers.length.\n",
    "\n",
    "Return the indices of the two numbers, index1 and index2, added by one as an integer array [index1, index2] of length 2.\n",
    "\n",
    "The tests are generated such that there is exactly one solution. You may not use the same element twice.\n",
    "\n",
    "Your solution must use only constant extra space."
   ]
  },
  {
   "cell_type": "markdown",
   "id": "2684575f-12cb-4cd6-9142-acc9a7331a29",
   "metadata": {},
   "source": [
    "The Approach is to go through the list with two pointers, one from the left and another from the right, leveraging on its sorted nature, and moving the left pointer up if their sums are lower than targer, right pointer down if larger."
   ]
  },
  {
   "cell_type": "code",
   "execution_count": 1,
   "id": "68c60a94-d9b4-4820-842a-5ae03a56f364",
   "metadata": {},
   "outputs": [],
   "source": [
    "def twoSum(numbers, target):\n",
    "    l, r = 0, (len(numbers) - 1)\n",
    "\n",
    "    while l < r:\n",
    "        sum = numbers[l] + numbers[r]\n",
    "\n",
    "        if sum == target:\n",
    "            return ((l+1), (r+1))\n",
    "        elif sum < target:\n",
    "            l += 1\n",
    "        elif sum > target:\n",
    "            r -= 1"
   ]
  },
  {
   "cell_type": "markdown",
   "id": "220f31cb-4d0c-4b2c-b288-28ff1e53b513",
   "metadata": {},
   "source": [
    "**Test 1**\n",
    "\n",
    "Input: numbers = [2,7,11,15], target = 9\n",
    "\n",
    "Output: [1,2]"
   ]
  },
  {
   "cell_type": "code",
   "execution_count": 3,
   "id": "d12c39c3-1dce-4d53-86a4-d753615ed2d7",
   "metadata": {},
   "outputs": [
    {
     "name": "stdout",
     "output_type": "stream",
     "text": [
      "(1, 2)\n"
     ]
    }
   ],
   "source": [
    "print(twoSum([2,7,11,15], 9))"
   ]
  },
  {
   "cell_type": "markdown",
   "id": "84105252-58cb-49f5-b1f3-36c3f26c7e13",
   "metadata": {},
   "source": [
    "**Test 2**\n",
    "\n",
    "Input: numbers = [2,3,4], target = 6\n",
    "\n",
    "Output: [1,3]"
   ]
  },
  {
   "cell_type": "code",
   "execution_count": 6,
   "id": "bdec2659-a32a-4e40-9255-b047e9572dd3",
   "metadata": {},
   "outputs": [
    {
     "name": "stdout",
     "output_type": "stream",
     "text": [
      "(1, 3)\n"
     ]
    }
   ],
   "source": [
    "print(twoSum([2,3,4], 6))"
   ]
  },
  {
   "cell_type": "markdown",
   "id": "edb21aef-ec85-4eb2-bb81-5282f66783f4",
   "metadata": {},
   "source": [
    "**Test 3**\n",
    "\n",
    "Input: numbers = [-1,0], target = -1\n",
    "\n",
    "Output: [1,2]"
   ]
  },
  {
   "cell_type": "code",
   "execution_count": 7,
   "id": "2fc50ca0-7ddf-41b5-9922-267d482dc9ef",
   "metadata": {},
   "outputs": [
    {
     "name": "stdout",
     "output_type": "stream",
     "text": [
      "(1, 2)\n"
     ]
    }
   ],
   "source": [
    "print(twoSum([-1, 0], -1))"
   ]
  }
 ],
 "metadata": {
  "kernelspec": {
   "display_name": "Python 3 (ipykernel)",
   "language": "python",
   "name": "python3"
  },
  "language_info": {
   "codemirror_mode": {
    "name": "ipython",
    "version": 3
   },
   "file_extension": ".py",
   "mimetype": "text/x-python",
   "name": "python",
   "nbconvert_exporter": "python",
   "pygments_lexer": "ipython3",
   "version": "3.9.0"
  }
 },
 "nbformat": 4,
 "nbformat_minor": 5
}

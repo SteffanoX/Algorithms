{
 "cells": [
  {
   "cell_type": "markdown",
   "id": "cebb5be4-0b5a-4286-b20d-35af4b81cb02",
   "metadata": {},
   "source": [
    "## Move Zeroes\n",
    "\n",
    "Given an integer array nums, move all 0's to the end of it while maintaining the relative order of the non-zero elements.\n",
    "\n",
    "Note that you must do this in-place without making a copy of the array.\n",
    "\n",
    "The approach below utilizes a dictionary to store the value and indexes of non-zero elemts, after which leveraging on the get() function to append the mapping id if found, else 0 to the array."
   ]
  },
  {
   "cell_type": "code",
   "execution_count": 1,
   "id": "9b5a56e9-d2f0-470b-9b5a-19c0b02456fb",
   "metadata": {},
   "outputs": [],
   "source": [
    "def moveZeroes(nums):\n",
    "    \"\"\"\n",
    "    Do not return anything, modify nums in-place instead.\n",
    "    \"\"\"\n",
    "\n",
    "    nonZeroDict = {}\n",
    "    currIndex = 0\n",
    "\n",
    "    for num in nums:\n",
    "        if num != 0:\n",
    "            nonZeroDict[currIndex] = num\n",
    "            currIndex += 1\n",
    "\n",
    "    for id in range(len(nums)):\n",
    "        nums[id] = nonZeroDict.get(id, 0)\n",
    "    \n",
    "    return nums"
   ]
  },
  {
   "cell_type": "markdown",
   "id": "5859dbc0-8dcc-4a4c-a4f6-e3400a5b3f33",
   "metadata": {},
   "source": [
    "**Test 1** \n",
    "\n",
    "Input: nums = [0,1,0,3,12]\n",
    "\n",
    "Output: [1,3,12,0,0]"
   ]
  },
  {
   "cell_type": "code",
   "execution_count": 3,
   "id": "f9cf6eff-aaa4-4ad3-bb04-22c0e737a29f",
   "metadata": {},
   "outputs": [
    {
     "name": "stdout",
     "output_type": "stream",
     "text": [
      "[1, 3, 12, 0, 0]\n"
     ]
    }
   ],
   "source": [
    "test = moveZeroes([0,1,0,3,12])\n",
    "print(test)"
   ]
  },
  {
   "cell_type": "markdown",
   "id": "9fd3bcc1-37d4-4b4b-9973-99c3a46e8ab8",
   "metadata": {},
   "source": [
    "**Test 2** \n",
    "\n",
    "Input: nums = [0]\n",
    "\n",
    "Output: [0]"
   ]
  },
  {
   "cell_type": "code",
   "execution_count": 5,
   "id": "7a9dcac6-db4b-4f59-9030-c6be277273fd",
   "metadata": {},
   "outputs": [
    {
     "name": "stdout",
     "output_type": "stream",
     "text": [
      "[0]\n"
     ]
    }
   ],
   "source": [
    "test = moveZeroes([0])\n",
    "print(test)"
   ]
  },
  {
   "cell_type": "code",
   "execution_count": null,
   "id": "82c9fad5-bf37-4905-a320-0c4d456aa903",
   "metadata": {},
   "outputs": [],
   "source": []
  }
 ],
 "metadata": {
  "kernelspec": {
   "display_name": "Python 3 (ipykernel)",
   "language": "python",
   "name": "python3"
  },
  "language_info": {
   "codemirror_mode": {
    "name": "ipython",
    "version": 3
   },
   "file_extension": ".py",
   "mimetype": "text/x-python",
   "name": "python",
   "nbconvert_exporter": "python",
   "pygments_lexer": "ipython3",
   "version": "3.9.0"
  }
 },
 "nbformat": 4,
 "nbformat_minor": 5
}

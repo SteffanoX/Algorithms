{
 "cells": [
  {
   "cell_type": "markdown",
   "id": "5870eca4-706e-499e-a178-b393380caccd",
   "metadata": {},
   "source": [
    "# 4. Grouping Anagrams\n",
    "\n",
    "Given an array of strings strs, group the anagrams together. Answer can be returned in any order.\n",
    "\n",
    "An Anagram is a word or phrase formed by rearranging the letters of a different word or phrase, typically using all the original letters exactly once.\n",
    "\n",
    "My approach to this problem is to utilize a dictionary with list and sorting of each string in the following steps: \n",
    "\n",
    "  1. A defaultdict(list) default dictionary of type list is created as the ans so as to avoid key errors.\n",
    "  2. Loop through each string in the input string array. \n",
    "  3. sort each string alphabatically using the sorted() function. \n",
    "  4. append the string into the ans dictionary with the sorted string as key.\n",
    "     4a. As annagrams of a string will be exatly the same when sorted, annagrams will be appended to the same list with the sorted string as key.\n",
    "  5. return the values of the dictionary, the grouped anagrams.\n"
   ]
  },
  {
   "cell_type": "code",
   "execution_count": 7,
   "id": "70b59481-a1bb-433c-85e6-a6aa5bfbd59c",
   "metadata": {},
   "outputs": [],
   "source": [
    "import collections\n",
    "\n",
    "def groupAnagrams(strs):\n",
    "    \"\"\"\n",
    "    :type strs: List[str]\n",
    "    :rtype: List[List[str]]\n",
    "    \"\"\"\n",
    "    ans = collections.defaultdict(list)\n",
    "    for str in strs:\n",
    "        sorted_str = \"\".join(sorted(str))\n",
    "        ans[sorted_str].append(str)\n",
    "    return ans.values()"
   ]
  },
  {
   "cell_type": "markdown",
   "id": "9bcbfe2c-182a-4393-9d14-975afebd725c",
   "metadata": {},
   "source": [
    "**Test 1**\n",
    "\n",
    "input: strs = [\"eat\",\"tea\",\"tan\",\"ate\",\"nat\",\"bat\"]\n",
    "\n",
    "expected output = [[\"bat\"],[\"nat\",\"tan\"],[\"ate\",\"eat\",\"tea\"]]"
   ]
  },
  {
   "cell_type": "code",
   "execution_count": 12,
   "id": "6d0436e3-1ef2-4b7c-943a-07e8353257c8",
   "metadata": {},
   "outputs": [
    {
     "name": "stdout",
     "output_type": "stream",
     "text": [
      "dict_values([['eat', 'tea', 'ate'], ['tan', 'nat'], ['bat']])\n"
     ]
    }
   ],
   "source": [
    "test = groupAnagrams([\"eat\",\"tea\",\"tan\",\"ate\",\"nat\",\"bat\"])\n",
    "print(test)"
   ]
  },
  {
   "cell_type": "markdown",
   "id": "e35d9b54-0de4-4d97-b1a9-9108a85b89e9",
   "metadata": {},
   "source": [
    "**Test 2**\n",
    "\n",
    "Input: strs = [\"\"]\n",
    "\n",
    "Output: [[\"\"]]"
   ]
  },
  {
   "cell_type": "code",
   "execution_count": 13,
   "id": "76882477-e626-4700-a498-ceb80f3d7529",
   "metadata": {},
   "outputs": [
    {
     "name": "stdout",
     "output_type": "stream",
     "text": [
      "dict_values([['']])\n"
     ]
    }
   ],
   "source": [
    "test = groupAnagrams([\"\"])\n",
    "print(test)"
   ]
  },
  {
   "cell_type": "markdown",
   "id": "644060f3-6298-4ce1-a5f8-4c11f129fea3",
   "metadata": {},
   "source": [
    "**Test 3**\n",
    "\n",
    "Input: strs = [\"a\"]\n",
    "\n",
    "Output: [[\"a\"]]"
   ]
  },
  {
   "cell_type": "code",
   "execution_count": 14,
   "id": "1970f254-e1f2-4841-8cec-cfa4b950cb1d",
   "metadata": {},
   "outputs": [
    {
     "name": "stdout",
     "output_type": "stream",
     "text": [
      "dict_values([['a']])\n"
     ]
    }
   ],
   "source": [
    "test = groupAnagrams([\"a\"])\n",
    "print(test)"
   ]
  },
  {
   "cell_type": "code",
   "execution_count": null,
   "id": "efacff46-162f-4bba-928d-824b098e0037",
   "metadata": {},
   "outputs": [],
   "source": []
  }
 ],
 "metadata": {
  "kernelspec": {
   "display_name": "Python 3 (ipykernel)",
   "language": "python",
   "name": "python3"
  },
  "language_info": {
   "codemirror_mode": {
    "name": "ipython",
    "version": 3
   },
   "file_extension": ".py",
   "mimetype": "text/x-python",
   "name": "python",
   "nbconvert_exporter": "python",
   "pygments_lexer": "ipython3",
   "version": "3.9.0"
  }
 },
 "nbformat": 4,
 "nbformat_minor": 5
}

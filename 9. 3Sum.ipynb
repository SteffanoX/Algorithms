{
 "cells": [
  {
   "cell_type": "markdown",
   "id": "4fa93ffc-7560-4b42-9813-38c0a8354944",
   "metadata": {},
   "source": [
    "## Three Sum\n",
    "\n",
    "Given an integer array nums, return all the triplets [nums[i], nums[j], nums[k]] such that i != j, i != k, and j != k, and nums[i] + nums[j] + nums[k] == 0.\n",
    "\n",
    "Solution should not contain duplicate triplets\n",
    "\n",
    "#### Approach\n",
    "  1. Sort the input list from small to large\n",
    "  2. for every element, if it is not the same as the previous (from index 1 onwards), traverse the remaining items (exclusing ith item) inwards with 2 pointers from left and right. \n",
    "  3. if the sum of the 3 numbers are 0, append them to the results\n",
    "  4. if the sum of the 3 numbers are larger than 0, move right pointer down\n",
    "  5. if the sum of the 3 numbers are smaller than 0, move the left pointer up.\n",
    "  "
   ]
  },
  {
   "cell_type": "code",
   "execution_count": 7,
   "id": "460a19f2-c349-43c3-89cf-f01ee0fb0c1d",
   "metadata": {},
   "outputs": [],
   "source": [
    "def threeSum(nums):\n",
    "    \"\"\"\n",
    "    :type nums: List[int]\n",
    "    :rtype: List[List[int]]\n",
    "    \"\"\"\n",
    "    nums.sort()\n",
    "\n",
    "    res = []\n",
    "\n",
    "    for i, x in enumerate(nums):\n",
    "        if i > 0 and x == nums[i-1]:\n",
    "            continue\n",
    "\n",
    "        l, r = i + 1, len(nums) -1\n",
    "\n",
    "        while l < r:\n",
    "            y, z = nums[l], nums[r]\n",
    "            total = x + y + z\n",
    "\n",
    "            if total < 0:\n",
    "                l += 1\n",
    "            elif total > 0:\n",
    "                r -= 1\n",
    "            else:\n",
    "                res.append([x, y, z])\n",
    "                l += 1\n",
    "                while nums[l] == nums[l-1] and l<r:\n",
    "                    l+= 1\n",
    "\n",
    "    return res\n",
    "                "
   ]
  },
  {
   "cell_type": "markdown",
   "id": "20b0a515-7ad7-4ffa-bf74-c522b85cf879",
   "metadata": {},
   "source": [
    "**Test 1**\n",
    "\n",
    "Input: nums = [-1,0,1,2,-1,-4]\n",
    "\n",
    "Output: [[-1,-1,2],[-1,0,1]]"
   ]
  },
  {
   "cell_type": "code",
   "execution_count": 8,
   "id": "c2d6c33c-0858-425f-99d3-a55e7109e457",
   "metadata": {},
   "outputs": [
    {
     "name": "stdout",
     "output_type": "stream",
     "text": [
      "[[-1, -1, 2], [-1, 0, 1]]\n"
     ]
    }
   ],
   "source": [
    "test = threeSum([-1,0,1,2,-1,-4])\n",
    "print(test)"
   ]
  },
  {
   "cell_type": "markdown",
   "id": "d68a8ef8-890d-4a6a-a8d4-30994854867b",
   "metadata": {},
   "source": [
    "**Test 2**\n",
    "\n",
    "Input: nums = []\n",
    "\n",
    "Output: []"
   ]
  },
  {
   "cell_type": "code",
   "execution_count": 9,
   "id": "a0d55e9b-ed51-46c5-98a1-4a27596cff59",
   "metadata": {},
   "outputs": [
    {
     "name": "stdout",
     "output_type": "stream",
     "text": [
      "[]\n"
     ]
    }
   ],
   "source": [
    "test = threeSum([])\n",
    "print(test)"
   ]
  },
  {
   "cell_type": "markdown",
   "id": "e4f6184e-68c7-4a4f-a304-c72a80b417c1",
   "metadata": {},
   "source": [
    "**Test 3**\n",
    "\n",
    "Input: nums = [0]\n",
    "\n",
    "Output: []"
   ]
  },
  {
   "cell_type": "code",
   "execution_count": 10,
   "id": "d3d95e6c-fb93-4de5-b5fc-2929c4d0d43a",
   "metadata": {},
   "outputs": [
    {
     "name": "stdout",
     "output_type": "stream",
     "text": [
      "[]\n"
     ]
    }
   ],
   "source": [
    "test = threeSum([0])\n",
    "print(test)"
   ]
  }
 ],
 "metadata": {
  "kernelspec": {
   "display_name": "Python 3 (ipykernel)",
   "language": "python",
   "name": "python3"
  },
  "language_info": {
   "codemirror_mode": {
    "name": "ipython",
    "version": 3
   },
   "file_extension": ".py",
   "mimetype": "text/x-python",
   "name": "python",
   "nbconvert_exporter": "python",
   "pygments_lexer": "ipython3",
   "version": "3.9.0"
  }
 },
 "nbformat": 4,
 "nbformat_minor": 5
}

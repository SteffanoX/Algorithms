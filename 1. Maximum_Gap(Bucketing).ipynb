{
 "cells": [
  {
   "cell_type": "markdown",
   "metadata": {
    "pycharm": {
     "name": "#%% md\n"
    }
   },
   "source": [
    "# Finding the maximum gap between values within a List, using the bucketing method.\n",
    "\n",
    "Given an integer array nums, return the maximum difference between two successive elements in its sorted form. If the array contains less than two elements, return 0.\n",
    "**The Algorithm should run in O(N)**."
   ]
  },
  {
   "cell_type": "markdown",
   "metadata": {
    "jupyter": {
     "outputs_hidden": false
    },
    "pycharm": {
     "name": "#%%\n"
    }
   },
   "source": [
    "1) Function defination and set-up of variables. \n",
    "\n",
    "| Variables | Description |\n",
    "| ----------- | ----------- |\n",
    "| min1 | used to store the min value of the given list float('inf) -> larget value |\n",
    "| max1 | used to store the max value of the given list float('-inf) -> smalled value|\n",
    "| n | the number of values in given list |\n",
    "| gap | the gap between buckets |\n",
    "| min_bucket | the minimum value of each bucket, key being bucket number, n buckets created |\n",
    "| max_bucket | the maximum value of each bucket, key being bucket number n buckets created |\n",
    "| ans | used to store the larges gap, replaced iteratively |\n",
    "\n",
    "2. If the list contains less than 2 values, there is no gap, return 0.\n",
    "\n",
    "3. Loop through the list to find the total min and max values.\n",
    "\n",
    "4. if the derived min and max are equal, there is no gap, return 0.\n",
    "\n",
    "5. Determining the number of gap values within a bucket:\n",
    "   \n",
    "   5a. (n-1) = amount of gaps. i.e. [x <-1-> y <-2-> z <-3-> u] . 3 gaps between 4 values, gaps = (n - 1)\n",
    "   \n",
    "   5b. if the difference between the min and max is divisable by number of gaps, the gaps fits perfectly. \n",
    "   \n",
    "   5c. if the difference between the min and max is not divisable by number of gaps, the gaps does not fit perfectly, + 1 gap to fit. \n",
    "\n",
    "6. identify which bucket each value belongs to and fill the min and max values of each bucket.\n",
    "   \n",
    "   6a. (value - min) // gaps gives the bucket number which the values fall into. (i.e. how far away the value is from the min, divided by the gaps in each bucket)\n",
    "   \n",
    "   6b. fill in the min and max of each bucket using the min and max function.\n",
    "\n",
    "7. Comparing the maximum of bucket[n] with minimume of bucket [n + 1] to derive the maximum gap between buckets.\n",
    "   \n",
    "   7a. prev stores the first bucket's max value, bucket number + 1 untill 2nd last bucket.\n",
    "   \n",
    "   7b. Since there are n buckets, empty buckets with 'inf' for min and '-inf' for max should not be processed.\n",
    "   \n",
    "   7c. ans will be replaced with max gap calculated per loop."
   ]
  },
  {
   "cell_type": "code",
   "execution_count": 14,
   "metadata": {
    "collapsed": false,
    "jupyter": {
     "outputs_hidden": false
    },
    "pycharm": {
     "name": "#%%\n"
    }
   },
   "outputs": [],
   "source": [
    "def maximumGap(nums: list[int]):\n",
    "    # ------ 1 ---------\n",
    "    min1 = float('inf')\n",
    "    max1 = float ('-inf')\n",
    "    n = len(nums)\n",
    "    min_bucket = [float('inf')] * (n)\n",
    "    max_bucket = [float('-inf')] * (n)\n",
    "    ans = float('-inf')\n",
    "    \n",
    "    #------ 2 --------\n",
    "    if n < 2:\n",
    "        return 0\n",
    "    \n",
    "    #------ 3 --------\n",
    "    for num in nums:\n",
    "        min1 = min(num, min1)\n",
    "        max1 = max(num, max1)\n",
    "    \n",
    "    #------ 4 --------\n",
    "    if min1 == max1:\n",
    "        return 0\n",
    "    \n",
    "    #----- 5 ---------\n",
    "    if (max1 - min1) % (n-1) == 0:\n",
    "        gap = (max1 - min1) // (n-1)\n",
    "    else:\n",
    "        gap = ((max1 - min1) // (n-1)) + 1\n",
    "        \n",
    "    #----- 6 ---------\n",
    "    for num in nums:\n",
    "        bucket_num = (num - min1) // gap\n",
    "        min_bucket[bucket_num] = min(num, min_bucket[bucket_num])\n",
    "        max_bucket[bucket_num] = max(num, max_bucket[bucket_num])\n",
    "    \n",
    "    #----- 7 ---------\n",
    "    prev = max_bucket[0]\n",
    "    \n",
    "    for i in range(1, len(nums)):\n",
    "        if (prev == float('-inf') or min_bucket[i] == float('inf')):\n",
    "            continue\n",
    "        ans = max(ans, min_bucket[i] - prev)\n",
    "        prev = max_bucket[i]\n",
    "    \n",
    "    return ans\n",
    "        "
   ]
  },
  {
   "cell_type": "markdown",
   "metadata": {},
   "source": [
    "**Test 1**\n",
    "\n",
    "input: [1,2,3,4,5,8,10]\n",
    "\n",
    "return: 3 (5,8)"
   ]
  },
  {
   "cell_type": "code",
   "execution_count": 15,
   "metadata": {},
   "outputs": [
    {
     "name": "stdout",
     "output_type": "stream",
     "text": [
      "3\n"
     ]
    }
   ],
   "source": [
    "test = [1,2,3,4,5,8,10]\n",
    "ans = maximumGap(test)\n",
    "print(ans)"
   ]
  },
  {
   "cell_type": "markdown",
   "metadata": {},
   "source": [
    "**Test 2**\n",
    "\n",
    "input: [1,1,1,1,1,1,1]\n",
    "\n",
    "return: 0 (same values)"
   ]
  },
  {
   "cell_type": "code",
   "execution_count": 16,
   "metadata": {},
   "outputs": [
    {
     "name": "stdout",
     "output_type": "stream",
     "text": [
      "0\n"
     ]
    }
   ],
   "source": [
    "test = [1,1,1,1,1,1,1]\n",
    "ans = maximumGap(test)\n",
    "print(ans)"
   ]
  },
  {
   "cell_type": "markdown",
   "metadata": {},
   "source": [
    "**Test 3**\n",
    "\n",
    "input: [1]\n",
    "\n",
    "return: 0 (one value)"
   ]
  },
  {
   "cell_type": "code",
   "execution_count": 17,
   "metadata": {},
   "outputs": [
    {
     "name": "stdout",
     "output_type": "stream",
     "text": [
      "0\n"
     ]
    }
   ],
   "source": [
    "test = [1]\n",
    "ans = maximumGap(test)\n",
    "print(ans)"
   ]
  },
  {
   "cell_type": "markdown",
   "metadata": {},
   "source": [
    "**Test 4**\n",
    "\n",
    "input: [1,5,10,1000,9]\n",
    "\n",
    "return: 990 (10, 1000)"
   ]
  },
  {
   "cell_type": "code",
   "execution_count": 18,
   "metadata": {},
   "outputs": [
    {
     "name": "stdout",
     "output_type": "stream",
     "text": [
      "990\n"
     ]
    }
   ],
   "source": [
    "test = [1,5,10,1000,9]\n",
    "ans = maximumGap(test)\n",
    "print(ans)"
   ]
  }
 ],
 "metadata": {
  "kernelspec": {
   "display_name": "Python 3 (ipykernel)",
   "language": "python",
   "name": "python3"
  },
  "language_info": {
   "codemirror_mode": {
    "name": "ipython",
    "version": 3
   },
   "file_extension": ".py",
   "mimetype": "text/x-python",
   "name": "python",
   "nbconvert_exporter": "python",
   "pygments_lexer": "ipython3",
   "version": "3.9.0"
  }
 },
 "nbformat": 4,
 "nbformat_minor": 4
}

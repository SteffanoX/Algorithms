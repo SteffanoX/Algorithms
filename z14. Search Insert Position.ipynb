{
 "cells": [
  {
   "cell_type": "markdown",
   "id": "02050d22-f970-41fc-874d-6e7bbdd52579",
   "metadata": {},
   "source": [
    "### Search Insert Position\n",
    "\n",
    "Given a sorted array of distinct integers and a target value, return the index if the target is found. If not, return the index where it would be if it were inserted in order.\n",
    "\n",
    "You must write an algorithm with O(log n) runtime complexity.\n",
    "\n",
    "#### Approach\n",
    "\n",
    "This approach extends from a simple Binary Search, studying the Binary Search u we can observe that if a target value is found within the list, the method will return its index, if the target is not found within the list the following scenario is observed:\n",
    "\n",
    "  1. The 3 pointers, mid, left and right pointers will end up with such conditions, if right pointer smaller than the last mid number, the target should be placed in right pointer + 1 position\n",
    "  2. if the left pointer is larger than the mid pointer, the target should be places in the lth position"
   ]
  },
  {
   "cell_type": "code",
   "execution_count": 5,
   "id": "7e5cc7b6-4115-4ca6-b0e3-14e8346040d0",
   "metadata": {},
   "outputs": [],
   "source": [
    "def searchInsert(nums, target):\n",
    "    n = len(nums)\n",
    "    l, mid, r = 0, 0, (n-1)\n",
    "\n",
    "    while l <= r:\n",
    "        mid = (l+r) // 2\n",
    "        mid_num = nums[mid]\n",
    "\n",
    "        if mid_num == target:\n",
    "            return mid\n",
    "        elif target > mid_num:\n",
    "            l = mid + 1\n",
    "        elif target < mid_num:\n",
    "            r = mid - 1\n",
    "\n",
    "    if r < mid:\n",
    "        return r + 1\n",
    "    if l > mid:\n",
    "        return l"
   ]
  },
  {
   "cell_type": "markdown",
   "id": "97694e1d-8cfd-4a96-a886-4d1bd13775db",
   "metadata": {},
   "source": [
    "**Test 1**\n",
    "\n",
    "Input: nums = [1,3,5,6], target = 5\n",
    "\n",
    "Output: 2"
   ]
  },
  {
   "cell_type": "code",
   "execution_count": 6,
   "id": "d65886db-f76c-475d-885f-7443352be8c1",
   "metadata": {},
   "outputs": [
    {
     "name": "stdout",
     "output_type": "stream",
     "text": [
      "2\n"
     ]
    }
   ],
   "source": [
    "test = searchInsert([1,3,5,6], 5)\n",
    "print(test)"
   ]
  },
  {
   "cell_type": "markdown",
   "id": "40f4ddd6-6a3d-4340-b445-e1eb67617fba",
   "metadata": {},
   "source": [
    "**Test 2**\n",
    "\n",
    "Input: nums = [1,3,5,6], target = 2\n",
    "\n",
    "Output: 1"
   ]
  },
  {
   "cell_type": "code",
   "execution_count": 7,
   "id": "eca7972f-9e14-4900-b331-1ee19499c8bd",
   "metadata": {},
   "outputs": [
    {
     "name": "stdout",
     "output_type": "stream",
     "text": [
      "1\n"
     ]
    }
   ],
   "source": [
    "test = searchInsert([1,3,5,6], 2)\n",
    "print(test)"
   ]
  },
  {
   "cell_type": "markdown",
   "id": "6959dfc4-2c2f-42df-9530-bd76e7de8ff8",
   "metadata": {},
   "source": [
    "**Test 2**\n",
    "\n",
    "Input: nums = [1,3,5,6], target = 7\n",
    "\n",
    "Output: 4"
   ]
  },
  {
   "cell_type": "code",
   "execution_count": 8,
   "id": "a2f80833-1fef-4fc3-a8fc-cb98a8220993",
   "metadata": {},
   "outputs": [
    {
     "name": "stdout",
     "output_type": "stream",
     "text": [
      "4\n"
     ]
    }
   ],
   "source": [
    "test = searchInsert([1,3,5,6], 7)\n",
    "print(test)"
   ]
  }
 ],
 "metadata": {
  "kernelspec": {
   "display_name": "Python 3 (ipykernel)",
   "language": "python",
   "name": "python3"
  },
  "language_info": {
   "codemirror_mode": {
    "name": "ipython",
    "version": 3
   },
   "file_extension": ".py",
   "mimetype": "text/x-python",
   "name": "python",
   "nbconvert_exporter": "python",
   "pygments_lexer": "ipython3",
   "version": "3.9.0"
  }
 },
 "nbformat": 4,
 "nbformat_minor": 5
}

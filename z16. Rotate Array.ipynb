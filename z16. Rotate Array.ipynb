{
 "cells": [
  {
   "cell_type": "markdown",
   "id": "f3489ea0-6506-4ac7-8616-9bf3f465a9b3",
   "metadata": {},
   "source": [
    "## Rotate Array\n",
    "\n",
    "Given an array, rotate the array to the right by k steps, where k is non-negative."
   ]
  },
  {
   "cell_type": "markdown",
   "id": "e8b24a7a-6c2b-4bbe-ae04-2318574fa721",
   "metadata": {},
   "source": [
    "The approach would be to employ two pointers, and swap positions of the pointing elements thrice to achieve the rotate to the right effect.\n",
    "\n",
    "The Approach, with example, [1, 2, 3, 4] and k = 2:\n",
    "  1. Define the variables, left and right pointers, l and r starting from the 0th index and len(num) - 1 [last] index\n",
    "  2. Find the net k, as in essence, if k > len(num), the positions only change for items len(num) - k. (i.e. if k = len(num), no change in positions), thus position k to move => k = k%len(num), 2 % 4 = 2.\n",
    "  3. First loop to reverse the position. [1, 2, 3, 4] => [4, 3, 2, 1]\n",
    "  4. Second loop to swap positions from l = 0 to r = k - 1 => [3, 4, 2, 1]\n",
    "  5. Last loop to reverse the positions of the remaining elemnts from k till end. => [3, 4, 1, 2]\n",
    "  6. ending the three loops with the rotate from right effect.\n",
    " \n",
    "TC: O(n)"
   ]
  },
  {
   "cell_type": "code",
   "execution_count": 4,
   "id": "8acbb42c-24b8-4217-a1e6-ffe748433763",
   "metadata": {},
   "outputs": [],
   "source": [
    "def rotate(nums, k):\n",
    "    \"\"\"\n",
    "    Do not return anything, modify nums in-place instead.\n",
    "    \"\"\"\n",
    "\n",
    "    l, r = 0, (len(nums) -1)\n",
    "    k = k % len(nums)\n",
    "\n",
    "    while l < r:\n",
    "        nums[l], nums[r] = nums[r], nums[l]\n",
    "        l += 1\n",
    "        r -= 1\n",
    "\n",
    "    l = 0\n",
    "    r = k - 1\n",
    "\n",
    "    while l < r:\n",
    "        nums[l], nums[r] = nums[r], nums[l]\n",
    "        l += 1\n",
    "        r -= 1\n",
    "    \n",
    "    l = k\n",
    "    r = len(nums) - 1\n",
    "    \n",
    "    while l < r:\n",
    "        nums[l], nums[r] = nums[r], nums[l]\n",
    "        l += 1\n",
    "        r -= 1\n",
    "    \n",
    "    print(nums)"
   ]
  },
  {
   "cell_type": "markdown",
   "id": "15269b8d-030c-4583-801c-17c746a5da73",
   "metadata": {},
   "source": [
    "**Test 1**\n",
    "\n",
    "Input: nums = [1,2,3,4,5,6,7], k = 3\n",
    "\n",
    "Output: [5,6,7,1,2,3,4]"
   ]
  },
  {
   "cell_type": "code",
   "execution_count": 5,
   "id": "705b2cc5-ebff-4be6-98f4-0e88c422ea55",
   "metadata": {},
   "outputs": [
    {
     "name": "stdout",
     "output_type": "stream",
     "text": [
      "[5, 6, 7, 1, 2, 3, 4]\n"
     ]
    }
   ],
   "source": [
    "test = rotate([1,2,3,4,5,6,7], 3)"
   ]
  },
  {
   "cell_type": "markdown",
   "id": "b0c3a899-224a-4681-b717-8b592e6406cd",
   "metadata": {},
   "source": [
    "**Test 2**\n",
    "\n",
    "Input: nums = [-1,-100,3,99], k = 2\n",
    "\n",
    "Output: [3,99,-1,-100]"
   ]
  },
  {
   "cell_type": "code",
   "execution_count": 6,
   "id": "6a380cf9-22eb-40a8-930c-55a3ac5d85d6",
   "metadata": {},
   "outputs": [
    {
     "name": "stdout",
     "output_type": "stream",
     "text": [
      "[3, 99, -1, -100]\n"
     ]
    }
   ],
   "source": [
    "test = rotate([-1,-100,3,99], 2)"
   ]
  },
  {
   "cell_type": "code",
   "execution_count": null,
   "id": "ed760b6a-aa95-4d65-9c75-0d754922979a",
   "metadata": {},
   "outputs": [],
   "source": []
  }
 ],
 "metadata": {
  "kernelspec": {
   "display_name": "Python 3 (ipykernel)",
   "language": "python",
   "name": "python3"
  },
  "language_info": {
   "codemirror_mode": {
    "name": "ipython",
    "version": 3
   },
   "file_extension": ".py",
   "mimetype": "text/x-python",
   "name": "python",
   "nbconvert_exporter": "python",
   "pygments_lexer": "ipython3",
   "version": "3.9.0"
  }
 },
 "nbformat": 4,
 "nbformat_minor": 5
}

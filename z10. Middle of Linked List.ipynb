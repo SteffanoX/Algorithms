{
 "cells": [
  {
   "cell_type": "markdown",
   "id": "1b966b8a-b55f-4a4b-9f9d-1a3f39cf2d94",
   "metadata": {},
   "source": [
    "### Find the Middle of the Linked List\n",
    "\n",
    "Given the head of a singly linked list, return the middle node of the linked list.\n",
    "\n",
    "If there are two middle nodes, return the second middle node.\n",
    "\n",
    "Two approaches will be describe, (1) the brute force approach O(n) and (2) Faster Pointer Approach O(log(n)).\n"
   ]
  },
  {
   "cell_type": "markdown",
   "id": "e358ec5c-97d2-4bdc-9a07-9ed9ecc0920b",
   "metadata": {},
   "source": [
    "**Creating a Linked List**"
   ]
  },
  {
   "cell_type": "code",
   "execution_count": 41,
   "id": "45cd7054-dad0-4af7-ac39-ba7e2ee5af7d",
   "metadata": {},
   "outputs": [],
   "source": [
    "# class for the node\n",
    "class ListNode(object):\n",
    "    def __init__(self,x):\n",
    "        self.val = x\n",
    "        self.next = None\n",
    "        \n",
    "# class for the linked list         \n",
    "class createLinkedList(object):\n",
    "    def __init__(self):\n",
    "        self.head = None \n",
    "    \n",
    "    def insert(self,lists):\n",
    "        head = self\n",
    "        for i in range(0,len(lists)): \n",
    "            if i==0:\n",
    "                node = ListNode(lists[0])\n",
    "                self.head = node\n",
    "            else:\n",
    "                node.next = ListNode(lists[i])\n",
    "                node = node.next  \n",
    "\n",
    "    # Print the linked list\n",
    "    def display(self):\n",
    "        printval = self.head\n",
    "        lists=[]\n",
    "        while printval is not None:\n",
    "            lists.append(printval.val)\n",
    "            printval = printval.next \n",
    "        print(lists)"
   ]
  },
  {
   "cell_type": "markdown",
   "id": "08a45af8-e15b-431d-89c4-84a60613317a",
   "metadata": {},
   "source": [
    "#### Approach 1\n",
    "1) Duplicate the head pointer into a temp pointer, traverse through the linked list to find it's length.\n",
    "2) find the middle index, m\n",
    "3) traverse the head pointer m times\n",
    "4) Time Complexity = O(n)"
   ]
  },
  {
   "cell_type": "code",
   "execution_count": 42,
   "id": "1c783ad9-8e83-4adc-ba59-267cb7596bdf",
   "metadata": {},
   "outputs": [],
   "source": [
    "def middleNode(head):\n",
    "        \"\"\"\n",
    "        :type head: ListNode\n",
    "        :rtype: ListNode\n",
    "        \"\"\"\n",
    "        temp = head\n",
    "        list_len = 1\n",
    "        while temp.next != None:\n",
    "            list_len += 1\n",
    "            temp = temp.next\n",
    "        \n",
    "        m = list_len // 2\n",
    "        \n",
    "        for i in range(m):\n",
    "            head = head.next\n",
    "        return head"
   ]
  },
  {
   "cell_type": "markdown",
   "id": "a8731785-bbc7-47d9-9d4f-e7150f419b4a",
   "metadata": {},
   "source": [
    "**Test 1**\n",
    "\n",
    "LL = [1,2,3,4,5]\n",
    "\n",
    "result = 3"
   ]
  },
  {
   "cell_type": "code",
   "execution_count": 55,
   "id": "075df8d4-8598-4011-b882-297f042a7c02",
   "metadata": {},
   "outputs": [
    {
     "name": "stdout",
     "output_type": "stream",
     "text": [
      "<__main__.ListNode object at 0x7f81663fb580>\n",
      "3\n"
     ]
    }
   ],
   "source": [
    "LinkedList = createLinkedList() \n",
    "LinkedList.insert([1,2,3,4,5])\n",
    "headNode = LinkedList.head\n",
    "print(headNode)\n",
    "\n",
    "test = middleNode(headNode)\n",
    "print(test.val)"
   ]
  },
  {
   "cell_type": "markdown",
   "id": "c6e250a4-5132-4c1d-9bc6-897b52093a3f",
   "metadata": {},
   "source": [
    "**Test 2**\n",
    "\n",
    "LL = [1,2,3,4,5,6]\n",
    "\n",
    "result = 4"
   ]
  },
  {
   "cell_type": "code",
   "execution_count": 46,
   "id": "1f638060-c7f4-4dc5-bdbc-bb770ac0780c",
   "metadata": {},
   "outputs": [
    {
     "name": "stdout",
     "output_type": "stream",
     "text": [
      "<__main__.ListNode object at 0x7f81663fb190>\n",
      "4\n"
     ]
    }
   ],
   "source": [
    "LinkedList = createLinkedList() \n",
    "LinkedList.insert([1,2,3,4,5,6])\n",
    "headNode = LinkedList.head\n",
    "print(headNode)\n",
    "\n",
    "test = middleNode(headNode)\n",
    "print(test.val)"
   ]
  },
  {
   "cell_type": "markdown",
   "id": "7ddf9583-b515-45ba-9731-9fe9230118ae",
   "metadata": {},
   "source": [
    "#### Approach 2\n",
    "1) Create 2 pointers, slow and fast, both starting from head\n",
    "2) while fast and fast.next are not pointing to null object traverse through the linked list.\n",
    "3) For every iteration, slow pointer will move one step while the fast pointer will move two steps. \n",
    "4) naturally when the fast pointer is pointing to the end of the linked list, the slow pointer will be pointing to the middle."
   ]
  },
  {
   "cell_type": "code",
   "execution_count": 52,
   "id": "1571c880-a7db-40fd-8970-d7130ad28cb2",
   "metadata": {},
   "outputs": [],
   "source": [
    "def middleNode2(head):\n",
    "    \"\"\"\n",
    "    :type head: ListNode\n",
    "    :rtype: ListNode\n",
    "    \"\"\"\n",
    "    slow_pointer = head\n",
    "    fast_pointer = head\n",
    "\n",
    "    while fast_pointer and fast_pointer.next:\n",
    "        slow_pointer = slow_pointer.next\n",
    "        fast_pointer = fast_pointer.next.next\n",
    "\n",
    "    return slow_pointer"
   ]
  },
  {
   "cell_type": "markdown",
   "id": "bb1bbcbd-38e3-4583-9458-4f795af47b92",
   "metadata": {},
   "source": [
    "**Test 1**\n",
    "\n",
    "LL = [1,2,3,4,5]\n",
    "\n",
    "result = 3"
   ]
  },
  {
   "cell_type": "code",
   "execution_count": 53,
   "id": "116793ef-9f89-4788-bbd8-dd9e949db93d",
   "metadata": {},
   "outputs": [
    {
     "name": "stdout",
     "output_type": "stream",
     "text": [
      "<__main__.ListNode object at 0x7f81663f9940>\n",
      "3\n"
     ]
    }
   ],
   "source": [
    "LinkedList = createLinkedList() \n",
    "LinkedList.insert([1,2,3,4,5])\n",
    "headNode = LinkedList.head\n",
    "print(headNode)\n",
    "\n",
    "test = middleNode2(headNode)\n",
    "print(test.val)"
   ]
  },
  {
   "cell_type": "code",
   "execution_count": null,
   "id": "6634885a-16e3-403b-92e5-1f8f2d0629d5",
   "metadata": {},
   "outputs": [],
   "source": []
  }
 ],
 "metadata": {
  "kernelspec": {
   "display_name": "Python 3 (ipykernel)",
   "language": "python",
   "name": "python3"
  },
  "language_info": {
   "codemirror_mode": {
    "name": "ipython",
    "version": 3
   },
   "file_extension": ".py",
   "mimetype": "text/x-python",
   "name": "python",
   "nbconvert_exporter": "python",
   "pygments_lexer": "ipython3",
   "version": "3.9.0"
  }
 },
 "nbformat": 4,
 "nbformat_minor": 5
}

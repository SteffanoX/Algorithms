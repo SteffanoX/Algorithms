{
 "cells": [
  {
   "cell_type": "markdown",
   "id": "d8a53322-8982-4340-a87c-cdddd6ff07fe",
   "metadata": {},
   "source": [
    "### Binary Search\n",
    "\n",
    "Given an array of integers nums which is sorted in ascending order, and an integer target, write a function to search target in nums. If target exists, then return its index. Otherwise, return -1.\n",
    "\n",
    "You must write an algorithm with O(log n) runtime complexity."
   ]
  },
  {
   "cell_type": "markdown",
   "id": "31bab287-cfbc-40a3-ad9e-3eafa2111c91",
   "metadata": {},
   "source": [
    "#### Approach\n",
    "\n",
    "  1. Create two pointers, left and right, left pointing to the left most of the list and right pointing to the right most.\n",
    "  2. Create a loop, with the condition that left pointer does not over run right.\n",
    "  3. for each iteration, derive the mid point between the left and right pointers, (left + right) // 2\n",
    "  4. if the mid point value is equals to target, return target value\n",
    "  5. if the midpoint value is smaller than the target, that means the target must be at the left of the mid point, move the right pointer to the mid - 1 position of the list.\n",
    "  6. if the midpoint value is larger than the target, that means the target must be at the right of the mid point, move the left pointer to mid + 1 position of the list.\n",
    "  7. recurse till mid value == target, else return -1"
   ]
  },
  {
   "cell_type": "code",
   "execution_count": 4,
   "id": "faa3905e-f4dc-49b9-9be1-8cb9344c5aa3",
   "metadata": {},
   "outputs": [],
   "source": [
    "def search(nums, target):\n",
    "    \"\"\"\n",
    "    :type nums: List[int]\n",
    "    :type target: int\n",
    "    :rtype: int\n",
    "    \"\"\"\n",
    "    n = len(nums)\n",
    "    left, right = 0, (n-1)\n",
    "\n",
    "    while left <= right:\n",
    "        mid = (left + right) // 2\n",
    "        mid_num = nums[mid]\n",
    "\n",
    "        if mid_num == target:\n",
    "            return mid\n",
    "        elif target > mid_num:\n",
    "            left = mid + 1\n",
    "        elif target < mid_num:\n",
    "            right = mid -1\n",
    "\n",
    "\n",
    "    return -1"
   ]
  },
  {
   "cell_type": "markdown",
   "id": "6d0593d3-dd3d-466a-8d30-530a4b1b1964",
   "metadata": {},
   "source": [
    "**Test 1**\n",
    "\n",
    "input: nums = [-1,0,3,5,9,12], target = 9\n",
    "\n",
    "output: 4"
   ]
  },
  {
   "cell_type": "code",
   "execution_count": 5,
   "id": "3101e81d-8d5b-4284-884f-717efb41f5b7",
   "metadata": {},
   "outputs": [
    {
     "name": "stdout",
     "output_type": "stream",
     "text": [
      "4\n"
     ]
    }
   ],
   "source": [
    "nums = [-1,0,3,5,9,12]\n",
    "test = search(nums, 9)\n",
    "print(test)"
   ]
  },
  {
   "cell_type": "markdown",
   "id": "c355a275-1df2-41b5-a742-7e9090770f6d",
   "metadata": {},
   "source": [
    "**Test 2**\n",
    "\n",
    "input: nums = [-1,0,3,5,9,12], target = 2\n",
    "\n",
    "output: -1"
   ]
  },
  {
   "cell_type": "code",
   "execution_count": 6,
   "id": "5d80898f-eb46-462f-baad-7059d085e8e5",
   "metadata": {},
   "outputs": [
    {
     "name": "stdout",
     "output_type": "stream",
     "text": [
      "-1\n"
     ]
    }
   ],
   "source": [
    "nums = [-1,0,3,5,9,12]\n",
    "test = search(nums, 2)\n",
    "print(test)"
   ]
  },
  {
   "cell_type": "code",
   "execution_count": null,
   "id": "bbb5e89a-03c3-4d4a-9934-4bde3d8c0017",
   "metadata": {},
   "outputs": [],
   "source": []
  }
 ],
 "metadata": {
  "kernelspec": {
   "display_name": "Python 3 (ipykernel)",
   "language": "python",
   "name": "python3"
  },
  "language_info": {
   "codemirror_mode": {
    "name": "ipython",
    "version": 3
   },
   "file_extension": ".py",
   "mimetype": "text/x-python",
   "name": "python",
   "nbconvert_exporter": "python",
   "pygments_lexer": "ipython3",
   "version": "3.9.0"
  }
 },
 "nbformat": 4,
 "nbformat_minor": 5
}

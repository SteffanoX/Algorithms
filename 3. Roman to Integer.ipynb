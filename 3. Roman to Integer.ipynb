{
 "cells": [
  {
   "cell_type": "markdown",
   "id": "bb8a31ba-4eda-4a10-a263-763018f726a0",
   "metadata": {},
   "source": [
    "# Roman to Integer\n",
    "\n",
    "Roman numerals are represented by seven different symbols: I, V, X, L, C, D and M.\n",
    "\n",
    "| Symbol | Value |\n",
    "| ----------- | ----------- |\n",
    "| I | 1 |\n",
    "| V | 5 |\n",
    "| X | 10 |\n",
    "| L | 50 |\n",
    "| C | 100 |\n",
    "| D | 500 |\n",
    "| M | 1000 |\n",
    "\n",
    "For example, 2 is written as II in Roman numeral, just two one's added together. 12 is written as XII, which is simply X + II. The number 27 is written as XXVII, which is XX + V + II.\n",
    "\n",
    "Roman numerals are usually written largest to smallest from left to right. However, the numeral for four is not IIII. Instead, the number four is written as IV. Because the one is before the five we subtract it making four. The same principle applies to the number nine, which is written as IX. There are six instances where subtraction is used:\n",
    "\n",
    "I can be placed before V (5) and X (10) to make 4 and 9. \n",
    "X can be placed before L (50) and C (100) to make 40 and 90. \n",
    "C can be placed before D (500) and M (1000) to make 400 and 900.\n",
    "Given a roman numeral, convert it to an integer."
   ]
  },
  {
   "cell_type": "markdown",
   "id": "ccceaa05-a10f-4ad2-9c55-04817acf5d06",
   "metadata": {},
   "source": [
    "**The approach to this problem is derieved via the following logic:** \n",
    "\n",
    "  1. Creating a dictionary with symbol as key and value as value for each roman symbol.\n",
    "  2. Create an integer variable to continuously add or subtract based on roman symbols, the variable is intialised as the value of the last symbol (due to loop starting from 2nd symbol)\n",
    "  3. Loop through the string starting from the second symbol, i.\n",
    "  4. if value of symbol i is less than value of symbol i-1, subtract the value from the integer variable. \n",
    "  5. else, add the value to the integer variable. \n",
    "  "
   ]
  },
  {
   "cell_type": "code",
   "execution_count": 5,
   "id": "19f92ed2-2920-4521-8cb6-1708631e695e",
   "metadata": {},
   "outputs": [],
   "source": [
    "def romanToInt(s: str) -> int:\n",
    "        dict = {'I': 1,\n",
    "            'V': 5,\n",
    "            'X': 10,\n",
    "            'L': 50,\n",
    "            'C': 100,\n",
    "            'D': 500,\n",
    "            'M': 1000\n",
    "        }\n",
    "        \n",
    "        integer = dict[s[-1]]\n",
    "        for i in range(1,len(s)):\n",
    "            if dict[s[i-1]] < dict[s[i]]:\n",
    "                integer -= dict[s[i-1]]\n",
    "            else:\n",
    "                integer += dict[s[i-1]]\n",
    "        return integer"
   ]
  },
  {
   "cell_type": "markdown",
   "id": "49e239ce-be70-479b-b01d-4a47c8d0085f",
   "metadata": {},
   "source": [
    "**Test 1**\n",
    "\n",
    "Input: s = \"III\"\n",
    "\n",
    "Output: 3"
   ]
  },
  {
   "cell_type": "code",
   "execution_count": 6,
   "id": "c654f7d1-d333-4469-87a7-ce79ea63e84d",
   "metadata": {},
   "outputs": [
    {
     "name": "stdout",
     "output_type": "stream",
     "text": [
      "3\n"
     ]
    }
   ],
   "source": [
    "ans = romanToInt(\"III\")\n",
    "print(ans)"
   ]
  },
  {
   "cell_type": "markdown",
   "id": "401cbf48-8970-4513-b1f5-da89a5c8886e",
   "metadata": {},
   "source": [
    "**Test 2**\n",
    "\n",
    "Input: s = \"LVIII\"\n",
    "\n",
    "Output: 58"
   ]
  },
  {
   "cell_type": "code",
   "execution_count": 7,
   "id": "ce564e37-1778-4300-8aef-db0562a918bf",
   "metadata": {},
   "outputs": [
    {
     "name": "stdout",
     "output_type": "stream",
     "text": [
      "58\n"
     ]
    }
   ],
   "source": [
    "ans = romanToInt(\"LVIII\")\n",
    "print(ans)"
   ]
  },
  {
   "cell_type": "markdown",
   "id": "603ef3a9-5836-409f-90a3-c5c0b104177a",
   "metadata": {},
   "source": [
    "**Test 3**\n",
    "\n",
    "Input: s = \"MCMXCIV\"\n",
    "\n",
    "Output: 1994"
   ]
  },
  {
   "cell_type": "code",
   "execution_count": 9,
   "id": "8d2de990-eb75-415e-bca7-a844761882c3",
   "metadata": {},
   "outputs": [
    {
     "name": "stdout",
     "output_type": "stream",
     "text": [
      "1994\n"
     ]
    }
   ],
   "source": [
    "ans = romanToInt(\"MCMXCIV\")\n",
    "print(ans)"
   ]
  }
 ],
 "metadata": {
  "kernelspec": {
   "display_name": "Python 3 (ipykernel)",
   "language": "python",
   "name": "python3"
  },
  "language_info": {
   "codemirror_mode": {
    "name": "ipython",
    "version": 3
   },
   "file_extension": ".py",
   "mimetype": "text/x-python",
   "name": "python",
   "nbconvert_exporter": "python",
   "pygments_lexer": "ipython3",
   "version": "3.9.0"
  }
 },
 "nbformat": 4,
 "nbformat_minor": 5
}

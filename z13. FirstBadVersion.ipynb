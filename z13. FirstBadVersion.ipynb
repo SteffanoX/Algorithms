{
 "cells": [
  {
   "cell_type": "markdown",
   "id": "08c46b3c-b97c-4722-8540-12bc479882a6",
   "metadata": {},
   "source": [
    "## First bad Version\n",
    "\n",
    "You are a product manager and currently leading a team to develop a new product. Unfortunately, the latest version of your product fails the quality check. Since each version is developed based on the previous version, all the versions after a bad version are also bad.\n",
    "\n",
    "Suppose you have n versions [1, 2, ..., n] and you want to find out the first bad one, which causes all the following ones to be bad.\n",
    "\n",
    "You are given an API bool isBadVersion(version) which returns whether version is bad. Implement a function to find the first bad version. You should minimize the number of calls to the API.\n",
    "\n"
   ]
  },
  {
   "cell_type": "code",
   "execution_count": 71,
   "id": "162b69d1-9b17-4466-8ce2-9afd05e52588",
   "metadata": {},
   "outputs": [],
   "source": [
    "import random\n",
    "\n",
    "versions = []\n",
    "\n",
    "def genVersion():\n",
    "    n = random.randrange(100)\n",
    "    versions.append(False)\n",
    "    for i in range(1, n):\n",
    "        if i > 0 and versions[i-1] == True:\n",
    "            versions.append(True)\n",
    "        else:\n",
    "            versions.append(random.choice([False, True]))\n",
    "    return n\n",
    "    \n",
    "    \n",
    "def isBadVersion(i):\n",
    "    i -= 1\n",
    "    return versions[i]"
   ]
  },
  {
   "cell_type": "markdown",
   "id": "d7470877-e381-4c57-81e1-a81be37d6bf1",
   "metadata": {},
   "source": [
    "#### Approach\n",
    "\n",
    "Conduct a Binary Search inwards from the left and right most, towards the middle to find the first instance where version i is true and version i - 1 is false. \n",
    "\n",
    "  1."
   ]
  },
  {
   "cell_type": "code",
   "execution_count": 72,
   "id": "42bf8885-32fd-46f9-851b-41962ae6212c",
   "metadata": {},
   "outputs": [],
   "source": [
    "def firstBadVersion(n):\n",
    "    l, r = 1, n\n",
    "    while l <= r:\n",
    "        mid = (l + r) // 2\n",
    "        if isBadVersion(mid) and not isBadVersion(mid-1):\n",
    "            return mid\n",
    "        if isBadVersion(mid):\n",
    "            r = mid - 1\n",
    "        if not isBadVersion(mid):\n",
    "            l = mid + 1"
   ]
  },
  {
   "cell_type": "markdown",
   "id": "083c82c3-eb97-41b6-b641-fc7e847d9860",
   "metadata": {},
   "source": [
    "**Test**\n",
    "\n",
    "Testing done via the functions below"
   ]
  },
  {
   "cell_type": "code",
   "execution_count": 76,
   "id": "55fd4e3e-8c14-4f01-bccb-0fc3fb3a0ad4",
   "metadata": {},
   "outputs": [
    {
     "name": "stdout",
     "output_type": "stream",
     "text": [
      "Versions = [False, False, True, True, True, True, True, True, True, True, True, True, True, True, True, True, True, True, True, True, True, True]\n",
      "n = 22\n",
      "3\n"
     ]
    }
   ],
   "source": [
    "versions = []\n",
    "n = genVersion()\n",
    "print(f\"Versions = {versions}\")\n",
    "print(f\"n = {n}\")\n",
    "test = firstBadVersion(n)\n",
    "print(test)"
   ]
  },
  {
   "cell_type": "code",
   "execution_count": null,
   "id": "1a3d7b3b-f0f3-4d1b-9613-0cf729045c65",
   "metadata": {},
   "outputs": [],
   "source": []
  }
 ],
 "metadata": {
  "kernelspec": {
   "display_name": "Python 3 (ipykernel)",
   "language": "python",
   "name": "python3"
  },
  "language_info": {
   "codemirror_mode": {
    "name": "ipython",
    "version": 3
   },
   "file_extension": ".py",
   "mimetype": "text/x-python",
   "name": "python",
   "nbconvert_exporter": "python",
   "pygments_lexer": "ipython3",
   "version": "3.9.0"
  }
 },
 "nbformat": 4,
 "nbformat_minor": 5
}

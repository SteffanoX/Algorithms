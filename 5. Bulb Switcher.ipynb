{
 "cells": [
  {
   "cell_type": "markdown",
   "id": "d02b8232-c900-4d8b-9895-8261e2fe75d6",
   "metadata": {},
   "source": [
    "# Bulb Switcher 1\n",
    "\n",
    "This problem has a lot of different variations and solutions, the problem is described as such: \n",
    "\n",
    "  1) There are N light bulbs, labeled from 1 to N.\n",
    "  2) All light bulbs set to off initially.\n",
    "  3) There are also N people each numbered 1 to N as well.\n",
    "  4) Person 1 will go through all the light bulbs and flip the switch turning all of them on. \n",
    "  5) Then, person number 2 will go through all the light bulbs and flip the switch on each 2nd element turning them off, namely: light bulbs #2, #4, #6, #8, etc. \n",
    "  6) Then person 3 will go and do the same for the 3rd ligh bulb, 6th, 9th, etc.\n",
    "  7) in essence, person i, where i <=n will toggle the i-th bulb. \n",
    "\n",
    "Then, questions are usually asked about the light bulbs, for example:\n",
    "\n",
    "  1) How many light bulbs will be on after 100 people have gone through them?\n",
    "  2) What is the status of the kth light bulb (34th, 62nd, etc.)? Is it on or off\n",
    "  3) How many people need to go through the line of light bulbs until exactly K light bulbs are set to on?"
   ]
  },
  {
   "cell_type": "markdown",
   "id": "3db5a9c7-1068-4364-bf0a-33f1edf14f28",
   "metadata": {},
   "source": [
    "#### Question 1 -> How many lightbulbs will be on after 100 people have gone through them? \n",
    "\n",
    "In essence, the number 100 will be arbituary, as this logic will work for any given n. The logic is as follows:\n",
    "\n",
    "  1) If n = 0, 0 bulbs will be on, n = 1, n bulbs will be on\n",
    "  2) With every i-th person toggling the bulb, in essence, bulbs 0 - (i-1) will remain unchanged since the last toggle.\n",
    "  3) Bulb 1 will always be on despite for any N value.\n",
    "  4) Taking N = 5 as an example, Person i from range 1 to 5\n",
    "     4a) i = 1 -> [on, on, on, on, on]\n",
    "     4b) i = 2 -> [on, off, on, off, on]\n",
    "     4c) i = 3 -> [on, off, off, off, on]\n",
    "     4d) i = 4 -> [on, off, off, on, on]\n",
    "     4e) i = 5 -> [on, off, off, on , off]\n",
    "  5) extending the logic out, we find that bulbs, 4, 9, 16 will be on for N = 16. \n",
    "  6) with this we can test our assumption that for i in range 1 to N, if i is a perfect square root, bulb i will be on."
   ]
  },
  {
   "cell_type": "code",
   "execution_count": 4,
   "id": "e85876f0-f9b3-4a2f-a336-b5b4499bc89b",
   "metadata": {},
   "outputs": [],
   "source": [
    "def numLighted(n: int):\n",
    "    ans = 0\n",
    "    for i in range(1, (n + 1)):\n",
    "        if (i ** 0.5) % 1 == 0:\n",
    "            ans += 1\n",
    "    return ans"
   ]
  },
  {
   "cell_type": "markdown",
   "id": "9d472e05-302c-4e32-9b7a-b1be180e3d09",
   "metadata": {},
   "source": [
    "**Test 1**\n",
    "\n",
    "Input: n = 5\n",
    "\n",
    "Output: 2\n"
   ]
  },
  {
   "cell_type": "code",
   "execution_count": 5,
   "id": "9617ff65-8231-41ea-8cef-4da5c5e5a2b0",
   "metadata": {},
   "outputs": [
    {
     "name": "stdout",
     "output_type": "stream",
     "text": [
      "2\n"
     ]
    }
   ],
   "source": [
    "test = numLighted(5)\n",
    "print(test)"
   ]
  },
  {
   "cell_type": "markdown",
   "id": "bb667de9-3ea5-4de1-bef7-3cda7f5bd129",
   "metadata": {},
   "source": [
    "**Test 2**\n",
    "\n",
    "input: n = 20\n",
    "\n",
    "output: 4"
   ]
  },
  {
   "cell_type": "code",
   "execution_count": 7,
   "id": "f92945bb-d39f-4ba7-9978-72de06a869b5",
   "metadata": {},
   "outputs": [
    {
     "name": "stdout",
     "output_type": "stream",
     "text": [
      "4\n"
     ]
    }
   ],
   "source": [
    "test = numLighted(20)\n",
    "print(test)"
   ]
  },
  {
   "cell_type": "markdown",
   "id": "355ac86f-fc5e-492a-82db-ef1cc719d818",
   "metadata": {},
   "source": [
    "#### Question 2 -> What is the status of the kth light bulb (34th, 62nd, etc.)? Is it on or off\n",
    "\n",
    "In essence, a simple way to answer this question would be to check if the input kth index is a perfect square or not, if it is, it will be on, else, it will be off.\n",
    "\n",
    "However for the purpose of practice and experimentation, the solution of this question will be approached via a brute force method (i.e. to go through every iteration) resulting in O(n^2) time complexity.\n",
    "\n",
    "The brute force method is conducted as follows: \n",
    "\n",
    "  1. Declare a list of N booleans, all at False being offed.\n",
    "  2. Loop through from 1 to N + 1 (to include Nth person), i for each person\n",
    "  3. for each person, loop through the light bulbs k and toggle the k-1 index lightbulb, increment loop counter by k + 1. (i.e every i-th person will toggle every i'th bulb)"
   ]
  },
  {
   "cell_type": "code",
   "execution_count": 12,
   "id": "8cd07109-2662-4a07-9882-be80e99e32b0",
   "metadata": {},
   "outputs": [],
   "source": [
    "def bulbSwitch(n: int):\n",
    "        bulbs = [False for i in range(n)]\n",
    "        \n",
    "        for i in range(1, (n+1)):\n",
    "            k=i\n",
    "            \n",
    "            while k <= n:\n",
    "                bulbs[k-1] = not bulbs[k-1]\n",
    "                k += i\n",
    "                \n",
    "        return bulbs\n",
    "            "
   ]
  },
  {
   "cell_type": "markdown",
   "id": "c8df4801-bc26-4d3a-9d66-17ac88835d9d",
   "metadata": {},
   "source": [
    "**Test 1**\n",
    "\n",
    "Return the status of all lightbulbs if N = 10"
   ]
  },
  {
   "cell_type": "code",
   "execution_count": 13,
   "id": "e1073e2d-658b-4479-bdf0-3108e61325ad",
   "metadata": {},
   "outputs": [
    {
     "name": "stdout",
     "output_type": "stream",
     "text": [
      "[True, False, False, True, False, False, False, False, True, False, False, False, False, False, False, True, False, False, False, False]\n"
     ]
    }
   ],
   "source": [
    "test = bulbSwitch(20)\n",
    "print(test)"
   ]
  },
  {
   "cell_type": "markdown",
   "id": "b28ace1f-49ba-47a0-ae65-f5e885c59f20",
   "metadata": {},
   "source": [
    "**Note that the list follows the principle that only bulbs with index of perfect roots are lighted**"
   ]
  },
  {
   "cell_type": "markdown",
   "id": "63cb3d82-525d-41d6-923e-3716c78992ee",
   "metadata": {},
   "source": [
    "#### Question 3 -> How many people need to go through the line of light bulbs until exactly K light bulbs are set to on?\n",
    "\n",
    "Similarly, following the perfect square rule, in order to have Kth lightbulbs to be on, i will need K^2 persons to go through the line.\n",
    "  1. 1 bulb to be on, 1 person.\n",
    "  2. 2 bulbs to be on, 2 persons.\n",
    "  3. 3 bulbs to be on, 3 persons. etc.\n",
    "  \n",
    "However, the example below will extend on the brute force methodlogy. "
   ]
  },
  {
   "cell_type": "code",
   "execution_count": 26,
   "id": "0b93a6df-75a9-4260-b71f-0a107e44977d",
   "metadata": {},
   "outputs": [],
   "source": [
    "def howManybulbsOn(n: int, k:int):\n",
    "        bulbs = [False for i in range(n)]\n",
    "        \n",
    "        for i in range(1, (n+1)):\n",
    "            j=i\n",
    "            \n",
    "            while j <= n:\n",
    "                bulbs[j-1] = not bulbs[j-1]\n",
    "                j += i\n",
    "            if sum(bulbs) == k:\n",
    "                return (i + 1)"
   ]
  },
  {
   "cell_type": "markdown",
   "id": "7bf91cbc-b268-4cae-9690-78a4f050db6b",
   "metadata": {},
   "source": [
    "**Test 1**\n",
    "\n",
    "n = 10, k = 3\n",
    "\n",
    "output = 9 (3^2)"
   ]
  },
  {
   "cell_type": "code",
   "execution_count": 27,
   "id": "fba46720-a663-47d0-98ff-54c8373a8193",
   "metadata": {},
   "outputs": [
    {
     "name": "stdout",
     "output_type": "stream",
     "text": [
      "9\n"
     ]
    }
   ],
   "source": [
    "test = howManybulbsOn(10, 3)\n",
    "print(test)"
   ]
  },
  {
   "cell_type": "code",
   "execution_count": null,
   "id": "96924a3f-64d3-48a5-bdc9-98289cdb5100",
   "metadata": {},
   "outputs": [],
   "source": []
  }
 ],
 "metadata": {
  "kernelspec": {
   "display_name": "Python 3 (ipykernel)",
   "language": "python",
   "name": "python3"
  },
  "language_info": {
   "codemirror_mode": {
    "name": "ipython",
    "version": 3
   },
   "file_extension": ".py",
   "mimetype": "text/x-python",
   "name": "python",
   "nbconvert_exporter": "python",
   "pygments_lexer": "ipython3",
   "version": "3.9.0"
  }
 },
 "nbformat": 4,
 "nbformat_minor": 5
}

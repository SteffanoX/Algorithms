{
 "cells": [
  {
   "cell_type": "markdown",
   "id": "d47964e5-dbb0-4639-9f0a-c7189963f589",
   "metadata": {},
   "source": [
    "# Palindrome Numbers\n",
    "\n",
    "This is generally a simple problem. Given an integer x, return true if x is palindrome integer.\n",
    "\n",
    "An integer is a palindrome when it reads the same backward as forward. (i.e 121 is a palindrome and 123 is not).\n",
    "\n",
    "**Solution**\n",
    "\n",
    "This solution uses python's unique slicing function. if such functions are not available, one may venture into utilizing stacks and queues leveraging on their FIFO and FILO properties.\n",
    "\n",
    "  1. All negative numbers are not palindromes (i.e. -121 not equals to 121-). If X < 0, return false.\n",
    "  2. Convert the integer x into a string type\n",
    "  3. Get the reverse of the string using string slicing\n",
    "  4. return their comparison."
   ]
  },
  {
   "cell_type": "code",
   "execution_count": 1,
   "id": "4aa2b947-8a0e-427e-8241-29355ffcaa78",
   "metadata": {},
   "outputs": [],
   "source": [
    "def isPalindrome(x):\n",
    "    if x < 0:\n",
    "        return False\n",
    "\n",
    "    nums = str(x)\n",
    "    nums_rev = nums[::-1]\n",
    "    return(nums == nums[::-1])"
   ]
  },
  {
   "cell_type": "markdown",
   "id": "f57a6b5f-878a-4e97-9a29-85aeb525ffe9",
   "metadata": {},
   "source": [
    "**Test 1**\n",
    "\n",
    "input 12233221\n",
    "\n",
    "output = True\n"
   ]
  },
  {
   "cell_type": "code",
   "execution_count": 2,
   "id": "01be897f-fc45-44ca-91ae-34723f3f4520",
   "metadata": {},
   "outputs": [
    {
     "name": "stdout",
     "output_type": "stream",
     "text": [
      "True\n"
     ]
    }
   ],
   "source": [
    "test = isPalindrome(12233221)\n",
    "print(test)"
   ]
  },
  {
   "cell_type": "markdown",
   "id": "a97f06fb-cd2a-4c46-b96a-b4f30bf9ba95",
   "metadata": {},
   "source": [
    "**Test 1**\n",
    "\n",
    "input 122332212\n",
    "\n",
    "output = False"
   ]
  },
  {
   "cell_type": "code",
   "execution_count": 3,
   "id": "68be3d34-d90a-45b5-8273-99e9a79c953e",
   "metadata": {},
   "outputs": [
    {
     "name": "stdout",
     "output_type": "stream",
     "text": [
      "False\n"
     ]
    }
   ],
   "source": [
    "test = isPalindrome(122332212)\n",
    "print(test)"
   ]
  },
  {
   "cell_type": "code",
   "execution_count": null,
   "id": "53e95a43-0984-43c7-a2f4-e39c20e6eb60",
   "metadata": {},
   "outputs": [],
   "source": []
  }
 ],
 "metadata": {
  "kernelspec": {
   "display_name": "Python 3 (ipykernel)",
   "language": "python",
   "name": "python3"
  },
  "language_info": {
   "codemirror_mode": {
    "name": "ipython",
    "version": 3
   },
   "file_extension": ".py",
   "mimetype": "text/x-python",
   "name": "python",
   "nbconvert_exporter": "python",
   "pygments_lexer": "ipython3",
   "version": "3.9.0"
  }
 },
 "nbformat": 4,
 "nbformat_minor": 5
}

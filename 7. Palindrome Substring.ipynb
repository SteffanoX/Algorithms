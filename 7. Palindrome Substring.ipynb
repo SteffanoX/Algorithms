{
 "cells": [
  {
   "cell_type": "markdown",
   "id": "1be4258d-ccc2-4610-9dae-f433bc0f5ec2",
   "metadata": {},
   "source": [
    "# Palindrome Substring\n",
    "\n",
    "Given a string, return the longest palindromic substring in s\n",
    "\n",
    "Two approaches explained: \n",
    "  1. Brute force approach checking all possible substring character by character to determine if they are a palindrome (O(n^3))\n",
    "  2. Middle out approach, for every character in the string, compare its available left and right characters,  if equals, advance outwards to identify the longest palindrome.\n",
    "  3. Dynamic Programming.\n",
    "  \n",
    "\n",
    "#### Approach 1 - Brute Force.\n",
    "\n",
    "  1. Loop through each character from 2'nd character onwards\n",
    "  2. Get the remaining characters right of the current looping character\n",
    "  3. for each of the character in (2), appaend it to loop (1)'s character.\n",
    "  4. create a reverse of the chracter using string slicing\n",
    "  5. if both characters are equals and the length is the current longest, store its length and current index.\n",
    "  6. after the loop return string according to start index and length."
   ]
  },
  {
   "cell_type": "code",
   "execution_count": 16,
   "id": "94d3e72c-ac11-4271-8ff8-81051df677dd",
   "metadata": {},
   "outputs": [],
   "source": [
    "def longestPalindrome1(s) -> str:\n",
    "    n = len(s)\n",
    "    longest_palin = 1\n",
    "    start_index = 0\n",
    "\n",
    "    for i in range(1, n):\n",
    "        letter = s[(i-1)]\n",
    "        tail = s[i:]\n",
    "        for a in tail:\n",
    "            letter += a\n",
    "            rev_letter = letter[::-1]\n",
    "            if letter == rev_letter:\n",
    "                if len(letter) > longest_palin:\n",
    "                    longest_palin = len(letter)\n",
    "                    start_index = i-1\n",
    "    return(s[start_index:(start_index + longest_palin)])\n"
   ]
  },
  {
   "cell_type": "markdown",
   "id": "e8bd9e97-7f6a-44fd-8138-df011b17d3e1",
   "metadata": {},
   "source": [
    "**Test 1**\n",
    "\n",
    "Input = \"cabbbba\"\n",
    "\n",
    "Output = \"abbbba\""
   ]
  },
  {
   "cell_type": "code",
   "execution_count": 13,
   "id": "875b22a9-4847-450a-ae8b-3c914882857d",
   "metadata": {},
   "outputs": [
    {
     "name": "stdout",
     "output_type": "stream",
     "text": [
      "abbbba\n"
     ]
    }
   ],
   "source": [
    "test = longestPalindrome1(\"cabbbba\")\n",
    "print(test)"
   ]
  },
  {
   "cell_type": "markdown",
   "id": "09b35be6-0ba8-4626-9544-2567d9194834",
   "metadata": {},
   "source": [
    "#### Approach 2 - Middle Out.\n",
    "The main idea is to loop the chracters from left to right, for each of the characters look towards their left and right to find matching characters to determine palindrome.\n",
    "  \n",
    "  1. expandWithin function is written to loop through pointers if left pointer is >= 0, right pointer is < length and if the characters are the same, returning the length of longest palindrome. "
   ]
  },
  {
   "cell_type": "code",
   "execution_count": 22,
   "id": "a16615e0-a713-44b1-9b13-a5f29f7e3cff",
   "metadata": {},
   "outputs": [],
   "source": [
    "def expandWithin(s, l, r):\n",
    "    while (l >= 0) and (r < len(s)) and (s[l] == s[r]):\n",
    "        l -= 1\n",
    "        r += 1\n",
    "    return (r - l - 1)"
   ]
  },
  {
   "cell_type": "markdown",
   "id": "132e9712-da84-4f90-8df6-8807ff3bdba4",
   "metadata": {},
   "source": [
    "  2. The main function will loop through the main string s and expan outwards using the expand within function. \n",
    "  \n",
    "  3. Key point to note is that to expand outwords, we must begin from a palindrome's centerpoint, however,thus, we need to check for both cases of palindrome, either if they are odd in length ot even.\n",
    "  \n",
    "    3a. odd case will have similar index as centerpoint and left and right pointers will start with the same index.\n",
    "    \n",
    "    3b. even case will have index i and index 1+1 as left and right for center point.\n",
    "    \n",
    "  4. Following on, we will keep track of the longest palindrome found while iterating the characters within the string.\n",
    "  \n",
    "     4a. the left and right index of the longest string is also tracked together with its results. "
   ]
  },
  {
   "cell_type": "code",
   "execution_count": 23,
   "id": "fcff4c03-f8fb-409b-b0c1-be05cb28d566",
   "metadata": {},
   "outputs": [],
   "source": [
    "def longestPalindrome2(s):\n",
    "    res = \"\"\n",
    "    longest_found = 0\n",
    "\n",
    "    for i in range(len(s)):\n",
    "        odd_len = expandWithin(s, i, i)\n",
    "        even_len = expandWithin(s, i, (i+1))\n",
    "        curr_max = max(odd_len, even_len)\n",
    "        if curr_max > longest_found:\n",
    "            left = i - ((curr_max - 1) // 2)\n",
    "            right = i + (curr_max // 2)\n",
    "            res = s[left: (right + 1)]\n",
    "            longest_found = curr_max\n",
    "\n",
    "    return res\n"
   ]
  },
  {
   "cell_type": "markdown",
   "id": "4f3330c6-57f3-4788-a86e-60321cacc406",
   "metadata": {},
   "source": [
    "**Test 1**\n",
    "\n",
    "Input = \"cabbbba\"\n",
    "\n",
    "Output = \"abbbba\""
   ]
  },
  {
   "cell_type": "code",
   "execution_count": 24,
   "id": "9b100e43-4a5d-4f13-af75-bac1b9531887",
   "metadata": {},
   "outputs": [
    {
     "name": "stdout",
     "output_type": "stream",
     "text": [
      "abbbba\n"
     ]
    }
   ],
   "source": [
    "test = longestPalindrome2(\"cabbbba\")\n",
    "print(test)"
   ]
  },
  {
   "cell_type": "markdown",
   "id": "aacbda78-1598-431f-b4d7-c4899f876188",
   "metadata": {},
   "source": [
    "#### Approach 3 - Dynamic programming.\n",
    "The main idea is to creat a 2 dimension list with each character's index as it's value to identify which index to which index gives us a palindrome. \n",
    "\n",
    "  1. Maintain a boolean table, table[n][n], that is filled in the bottom up manner.\n",
    "  2. The value of table[i][j] is true if the substring is palindrome, other wise, false.\n",
    "  3. To check if a substring from index i (start) to j(end) is a palindrom from the table, if str[i] and str[j] are the same and table[i + 1][j-1] is true, the substring is a palindrome.\n",
    "  4. To start of we will need to populate the table for substring length 1 and 2. \n",
    "  \n",
    "     4a. all string length 1 is a palindrom.\n",
    "     \n",
    "     4b. for sting of length 2, if both characters are the same, string is a palindrome."
   ]
  },
  {
   "cell_type": "code",
   "execution_count": 30,
   "id": "6e9d485e-2545-474e-b779-7e7985611aa2",
   "metadata": {},
   "outputs": [],
   "source": [
    "def longestPalindrome3(s):\n",
    "    n = len(s)\n",
    "    table = [[0 for x in range(n)] for y in range(n)]\n",
    "    maxLength = 1\n",
    "    #----- 4a initialization ------- \n",
    "    i = 0\n",
    "    while (i<n):\n",
    "        table[i][i] = True\n",
    "        i += 1\n",
    "        \n",
    "    # ---- 4b initialization -------\n",
    "    start = 0\n",
    "    i = 0\n",
    "    while i < (n-1):\n",
    "        if (s[i] == s[i+1]):\n",
    "            table[i][i+1] = True\n",
    "            start = i\n",
    "            maxLength = 2\n",
    "        i += 1\n",
    "    \n",
    "    # ---- Start from 3rd character since first and second has been processed -----\n",
    "    k = 3\n",
    "    while k <= n:\n",
    "        i = 0\n",
    "        while i < (n - k + 1) :\n",
    "             \n",
    "            # Get the ending index of\n",
    "            # substring from starting\n",
    "            # index i and length k\n",
    "            j = i + k - 1\n",
    "     \n",
    "            # checking for sub-string from\n",
    "            # ith index to jth index iff\n",
    "            # st[i + 1] to st[(j-1)] is a\n",
    "            # palindrome\n",
    "            if (table[i + 1][j - 1] and s[i] == s[j]) :\n",
    "                table[i][j] = True\n",
    "                if (k > maxLength) :\n",
    "                    start = i\n",
    "                    maxLength = k\n",
    "            i = i + 1\n",
    "        k = k + 1\n",
    "    \n",
    "    return s[start: (start + maxLength)]\n",
    "    \n",
    "    "
   ]
  },
  {
   "cell_type": "markdown",
   "id": "a22c55db-4eae-431e-9300-5245c524fd32",
   "metadata": {},
   "source": [
    "**Test 1**\n",
    "\n",
    "Input = \"cabbbba\"\n",
    "\n",
    "Output = \"abbbba\""
   ]
  },
  {
   "cell_type": "code",
   "execution_count": 31,
   "id": "52db3d55-8d68-4736-ba5e-57bb8ece4209",
   "metadata": {},
   "outputs": [
    {
     "name": "stdout",
     "output_type": "stream",
     "text": [
      "abbbba\n"
     ]
    }
   ],
   "source": [
    "test = longestPalindrome3(\"cabbbba\")\n",
    "print(test)"
   ]
  }
 ],
 "metadata": {
  "kernelspec": {
   "display_name": "Python 3 (ipykernel)",
   "language": "python",
   "name": "python3"
  },
  "language_info": {
   "codemirror_mode": {
    "name": "ipython",
    "version": 3
   },
   "file_extension": ".py",
   "mimetype": "text/x-python",
   "name": "python",
   "nbconvert_exporter": "python",
   "pygments_lexer": "ipython3",
   "version": "3.9.0"
  }
 },
 "nbformat": 4,
 "nbformat_minor": 5
}

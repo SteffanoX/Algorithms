{
 "cells": [
  {
   "cell_type": "markdown",
   "id": "108f0633-e6b8-4472-ac56-2ff2e63e3fae",
   "metadata": {},
   "source": [
    "### Longest Common Prefix\n",
    "\n",
    "Write a function to find the longest common prefix string amongst an array of strings.\n",
    "\n",
    "If there is no common prefix, return an empty string \"\".\n",
    "\n",
    "To solve this problem, a few points needs to be noted: \n",
    "  1. if there are no common substrings / chars between any two strings provided, there is no common prefix.\n",
    "  2. A common pre-fix will be the substring / char within the longest string.\n",
    "\n",
    "Solution:\n",
    "  1. Begin with the smaller problem of writing a function to find the common prefix between two strings first. \n",
    "  2. For the function mentioned in (1) we loop through the shorter of the two provided strings and if the characters are different, break out the loop. \n",
    "  3. else we append them to a string called common.\n",
    "  4. lastly we return the string derived, the common prefix.\n",
    "  5. After which in the main function, we will extract the longest string within the array, in this case we sort the array by len and extract the last element.\n",
    "  6. we loop through the string array exclusive of the last element and compare each of the string with the longest string. \n",
    "  7. if in any case, an empty string is returned we can assume point (1) above and break the loop. "
   ]
  },
  {
   "cell_type": "code",
   "execution_count": 1,
   "id": "20101ab9-795c-4bb6-b39e-7ce13083d910",
   "metadata": {},
   "outputs": [],
   "source": [
    "def findCommon(a, b):\n",
    "    \"\"\"\n",
    "    :type a: str, b: str\n",
    "    :rtype: str\n",
    "    \"\"\"\n",
    "    common = \"\"\n",
    "    for i in range(min(len(a), len(b))):\n",
    "        if (a[i] != b[i]):\n",
    "            break\n",
    "        common += a[i]\n",
    "    return common"
   ]
  },
  {
   "cell_type": "code",
   "execution_count": 2,
   "id": "c602ab8f-f929-4b81-9a83-fad91a522765",
   "metadata": {},
   "outputs": [],
   "source": [
    "def longestCommonPrefix(strs):\n",
    "    \"\"\"\n",
    "    :type strs: List[str]\n",
    "    :rtype: str\n",
    "    \"\"\"\n",
    "    strs.sort(key=len)\n",
    "    longest = strs[-1]\n",
    "\n",
    "    for str in strs[:-1]:\n",
    "        longest = findCommon(longest, str)\n",
    "        if longest == \"\":\n",
    "            break\n",
    "    return longest"
   ]
  },
  {
   "cell_type": "markdown",
   "id": "7f367033-fd61-4b00-95a7-896ee98e3780",
   "metadata": {},
   "source": [
    "**Test 1**\n",
    "\n",
    "Input: strs = [\"flower\",\"flow\",\"flight\"]\n",
    "\n",
    "Output: \"fl\""
   ]
  },
  {
   "cell_type": "code",
   "execution_count": 3,
   "id": "a8dc2a9e-8abe-41c9-b280-52c7eb94568c",
   "metadata": {},
   "outputs": [
    {
     "name": "stdout",
     "output_type": "stream",
     "text": [
      "fl\n"
     ]
    }
   ],
   "source": [
    "test = longestCommonPrefix([\"flower\",\"flow\",\"flight\"])\n",
    "print(test)"
   ]
  },
  {
   "cell_type": "markdown",
   "id": "1cd97794-1842-437b-8ea5-6790da7cd804",
   "metadata": {},
   "source": [
    "**Test 2**\n",
    "\n",
    "Input: strs = [\"dog\",\"racecar\",\"car\"]\n",
    "\n",
    "Output: \"\"\n"
   ]
  },
  {
   "cell_type": "code",
   "execution_count": 5,
   "id": "25ffaa0c-0a7d-4895-a1dd-e1d0d2b0cd87",
   "metadata": {},
   "outputs": [
    {
     "name": "stdout",
     "output_type": "stream",
     "text": [
      "\n"
     ]
    }
   ],
   "source": [
    "test = longestCommonPrefix([\"dog\",\"racecar\",\"car\"])\n",
    "print(test)"
   ]
  },
  {
   "cell_type": "code",
   "execution_count": null,
   "id": "3dbf29de-b047-4ada-9d34-d7b8c7a01a18",
   "metadata": {},
   "outputs": [],
   "source": []
  }
 ],
 "metadata": {
  "kernelspec": {
   "display_name": "Python 3 (ipykernel)",
   "language": "python",
   "name": "python3"
  },
  "language_info": {
   "codemirror_mode": {
    "name": "ipython",
    "version": 3
   },
   "file_extension": ".py",
   "mimetype": "text/x-python",
   "name": "python",
   "nbconvert_exporter": "python",
   "pygments_lexer": "ipython3",
   "version": "3.9.0"
  }
 },
 "nbformat": 4,
 "nbformat_minor": 5
}

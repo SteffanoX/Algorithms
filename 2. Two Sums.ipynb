{
 "cells": [
  {
   "cell_type": "markdown",
   "id": "943902f6-37ad-4c54-a5a8-91de2569ff43",
   "metadata": {},
   "source": [
    "# Two Sums\n",
    "\n",
    "Given an **array of integers nums** and an **integer target**, return indices of the two numbers such that they add up to target.\n",
    "each input would have exactly one solution, same element may not be used twice."
   ]
  },
  {
   "cell_type": "markdown",
   "id": "9963b79f-ef82-4195-bed4-98da202e5237",
   "metadata": {},
   "source": [
    "To attain O(n) time complexity, the approach is broken down into the following steps:\n",
    "\n",
    "  1. Create a HashMap to store seen elements. \n",
    "  \n",
    "  2. Loop through each individual element in the array.\n",
    "  \n",
    "  3. Calculate the difference between the array element and the target. (Target - element, as target is sum of 2 elements) \n",
    "  \n",
    "  4. Check if difference is seen and stored in the HashMap.\n",
    "  \n",
    "  5. If stored in the Hashmap, return the indices.\n",
    "  \n",
    "  6. If not stored in the Hashmap, store element in the hashmap."
   ]
  },
  {
   "cell_type": "code",
   "execution_count": 4,
   "id": "81744ce1-74b4-472c-83e2-499fc2cebf0e",
   "metadata": {},
   "outputs": [],
   "source": [
    "def twoSums(nums: list[int], target: int):\n",
    "    HashMap = {} #val:index\n",
    "    \n",
    "    for i, num in enumerate(nums):\n",
    "        diff = target - num\n",
    "        if diff in HashMap:\n",
    "            return(HashMap[diff], i)\n",
    "        HashMap[num] = i"
   ]
  },
  {
   "cell_type": "markdown",
   "id": "a356736b-0d41-4f15-b2d2-328c8a1620ce",
   "metadata": {},
   "source": [
    "**Test 1**\n",
    "\n",
    "Input: nums = [3,2,4], target = 6\n",
    "\n",
    "Output: [1,2]"
   ]
  },
  {
   "cell_type": "code",
   "execution_count": 5,
   "id": "d905e702-37cf-4a4f-9e3f-90bbe8114848",
   "metadata": {},
   "outputs": [
    {
     "name": "stdout",
     "output_type": "stream",
     "text": [
      "(1, 2)\n"
     ]
    }
   ],
   "source": [
    "ans = twoSums([3,2,4], 6)\n",
    "print(ans)"
   ]
  },
  {
   "cell_type": "markdown",
   "id": "abe4418e-02f5-4fe7-a879-4e208ddce6d6",
   "metadata": {},
   "source": [
    "**Test 2**\n",
    "\n",
    "Input: nums = [2,7,11,15], target = 9\n",
    "\n",
    "Output: [0,1]\n",
    "\n",
    "Explanation: Because nums[0] + nums[1] == 9, we return [0, 1]."
   ]
  },
  {
   "cell_type": "code",
   "execution_count": 7,
   "id": "f203aaba-2cef-45f2-9095-f37889734109",
   "metadata": {},
   "outputs": [
    {
     "name": "stdout",
     "output_type": "stream",
     "text": [
      "(0, 1)\n"
     ]
    }
   ],
   "source": [
    "ans = twoSums([2,7,11,15], 9)\n",
    "print(ans)"
   ]
  }
 ],
 "metadata": {
  "kernelspec": {
   "display_name": "Python 3 (ipykernel)",
   "language": "python",
   "name": "python3"
  },
  "language_info": {
   "codemirror_mode": {
    "name": "ipython",
    "version": 3
   },
   "file_extension": ".py",
   "mimetype": "text/x-python",
   "name": "python",
   "nbconvert_exporter": "python",
   "pygments_lexer": "ipython3",
   "version": "3.9.0"
  }
 },
 "nbformat": 4,
 "nbformat_minor": 5
}

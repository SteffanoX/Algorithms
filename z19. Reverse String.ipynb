{
 "cells": [
  {
   "cell_type": "markdown",
   "id": "b6a42020-c1ec-46f2-aba1-00f5dba0a400",
   "metadata": {},
   "source": [
    "## Reverse String\n",
    "\n",
    "Write a function that reverses a string. The input string is given as an array of characters s.\n",
    "\n",
    "You must do this by modifying the input array in-place with O(1) extra memory.\n",
    "\n",
    "The approach would be to use two pointers, starting from most left and right of the string, swapping their positions to achieve the reversing effect.\n",
    "\n",
    "TC: O(log n)\n"
   ]
  },
  {
   "cell_type": "code",
   "execution_count": 1,
   "id": "e6eb4fc7-14ac-481c-8ddc-bf2b4d4b566b",
   "metadata": {},
   "outputs": [],
   "source": [
    "def reverseString(s):\n",
    "    \"\"\"\n",
    "    Do not return anything, modify s in-place instead.\n",
    "    \"\"\"\n",
    "    l = 0\n",
    "    r = len(s) - 1\n",
    "\n",
    "    while l<r:\n",
    "        temp = s[l]\n",
    "        s[l] = s[r]\n",
    "        s[r] = temp\n",
    "        l += 1\n",
    "        r -= 1\n",
    "\n",
    "    return s"
   ]
  },
  {
   "cell_type": "markdown",
   "id": "900ece5c-1b9b-4f02-968c-16b7d00c5d66",
   "metadata": {},
   "source": [
    "**Test 1**\n",
    "\n",
    "Input: s = [\"h\",\"e\",\"l\",\"l\",\"o\"]\n",
    "\n",
    "Output: [\"o\",\"l\",\"l\",\"e\",\"h\"]"
   ]
  },
  {
   "cell_type": "code",
   "execution_count": 2,
   "id": "01650a13-c17a-4ce1-94ff-f770d28d9a57",
   "metadata": {},
   "outputs": [
    {
     "name": "stdout",
     "output_type": "stream",
     "text": [
      "['o', 'l', 'l', 'e', 'h']\n"
     ]
    }
   ],
   "source": [
    "test = reverseString([\"h\",\"e\",\"l\",\"l\",\"o\"])\n",
    "print(test)"
   ]
  },
  {
   "cell_type": "markdown",
   "id": "c929be13-5bca-40d7-bdf8-224ddfecb466",
   "metadata": {},
   "source": [
    "**Test 2**\n",
    "\n",
    "Input: s = [\"H\",\"a\",\"n\",\"n\",\"a\",\"h\"]\n",
    "\n",
    "Output: [\"h\",\"a\",\"n\",\"n\",\"a\",\"H\"]"
   ]
  },
  {
   "cell_type": "code",
   "execution_count": 3,
   "id": "8f8ecee0-18d1-4442-8096-f1d1b2f7a49b",
   "metadata": {},
   "outputs": [
    {
     "name": "stdout",
     "output_type": "stream",
     "text": [
      "['h', 'a', 'n', 'n', 'a', 'H']\n"
     ]
    }
   ],
   "source": [
    "test = reverseString([\"H\",\"a\",\"n\",\"n\",\"a\",\"h\"])\n",
    "print(test)"
   ]
  },
  {
   "cell_type": "code",
   "execution_count": null,
   "id": "33d4359c-39fa-4f55-840e-1448fc200ec6",
   "metadata": {},
   "outputs": [],
   "source": []
  }
 ],
 "metadata": {
  "kernelspec": {
   "display_name": "Python 3 (ipykernel)",
   "language": "python",
   "name": "python3"
  },
  "language_info": {
   "codemirror_mode": {
    "name": "ipython",
    "version": 3
   },
   "file_extension": ".py",
   "mimetype": "text/x-python",
   "name": "python",
   "nbconvert_exporter": "python",
   "pygments_lexer": "ipython3",
   "version": "3.9.0"
  }
 },
 "nbformat": 4,
 "nbformat_minor": 5
}

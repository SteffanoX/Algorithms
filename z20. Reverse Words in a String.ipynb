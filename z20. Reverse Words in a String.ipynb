{
 "cells": [
  {
   "cell_type": "markdown",
   "id": "33b6afc1-22f6-4ad0-884a-5f812d6eba1a",
   "metadata": {},
   "source": [
    "## Reverse Words in a String\n",
    "\n",
    "Given a string s, reverse the order of characters in each word within a sentence while still preserving whitespace and initial word order.\n",
    "\n",
    "The approach would be to use Python's functions to split the given string into an array for each space, and join them back seperating them in with a space for each word in a reverse order."
   ]
  },
  {
   "cell_type": "code",
   "execution_count": 1,
   "id": "1a9a07fc-1569-4669-8f51-878fee9a69c4",
   "metadata": {},
   "outputs": [],
   "source": [
    "def reverseWords(s):\n",
    "    s_list = s.split(' ')\n",
    "    result = ' '.join([word[::-1] for word in s_list])\n",
    "    return result"
   ]
  },
  {
   "cell_type": "markdown",
   "id": "9b0cc075-6c14-4d15-8ccf-9e7b7ccabe3f",
   "metadata": {},
   "source": [
    "**Test 1**\n",
    "\n",
    "Input: s = \"Let's take LeetCode contest\"\n",
    "\n",
    "Output: \"s'teL ekat edoCteeL tsetnoc\""
   ]
  },
  {
   "cell_type": "code",
   "execution_count": 2,
   "id": "561846de-93aa-44e2-89a6-8b8067e9ba69",
   "metadata": {},
   "outputs": [
    {
     "name": "stdout",
     "output_type": "stream",
     "text": [
      "s'teL ekat edoCteeL tsetnoc\n"
     ]
    }
   ],
   "source": [
    "test = reverseWords(\"Let's take LeetCode contest\")\n",
    "print(test)"
   ]
  },
  {
   "cell_type": "markdown",
   "id": "1fe8d667-6d02-43ad-9ba6-6835bcf993ff",
   "metadata": {},
   "source": [
    "**Test 2**\n",
    "\n",
    "Input: s = \"God Ding\"\n",
    "\n",
    "Output: \"doG gniD\""
   ]
  },
  {
   "cell_type": "code",
   "execution_count": 3,
   "id": "201352fa-5b57-4849-95bb-dea2b409a015",
   "metadata": {},
   "outputs": [
    {
     "name": "stdout",
     "output_type": "stream",
     "text": [
      "doG gniD\n"
     ]
    }
   ],
   "source": [
    "test = reverseWords(\"God Ding\")\n",
    "print(test)"
   ]
  },
  {
   "cell_type": "code",
   "execution_count": null,
   "id": "dafe3e54-38e1-4dcb-818b-3d3f5914bb03",
   "metadata": {},
   "outputs": [],
   "source": []
  }
 ],
 "metadata": {
  "kernelspec": {
   "display_name": "Python 3 (ipykernel)",
   "language": "python",
   "name": "python3"
  },
  "language_info": {
   "codemirror_mode": {
    "name": "ipython",
    "version": 3
   },
   "file_extension": ".py",
   "mimetype": "text/x-python",
   "name": "python",
   "nbconvert_exporter": "python",
   "pygments_lexer": "ipython3",
   "version": "3.9.0"
  }
 },
 "nbformat": 4,
 "nbformat_minor": 5
}

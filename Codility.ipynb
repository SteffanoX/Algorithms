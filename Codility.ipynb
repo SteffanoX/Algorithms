{
 "cells": [
  {
   "cell_type": "markdown",
   "id": "953fc2c9-0b6e-41c1-b374-04b156d763d2",
   "metadata": {},
   "source": [
    "## Get search results from the save contacts for the number you entered.\n",
    "\n",
    "Task Description:\n",
    "When you open the dialer of your phone and start typing a number, you will probably get search results from the save contacts for the number you entered. Your task is to implement a similar feature.\n",
    "\n",
    "Saved contacts are numbered from 0 to N-1. They are represented by two arrays A,B of N strings each. Name of K-th contact is A[K] and phone number is B[K].\n",
    "\n",
    "Write a function\n",
    "class Solution { public String solution(String[] A, String[] B, String P); }\n",
    "\n",
    "which, given two arrays A and B and a string P of length M representing a partial phone number, returns the contact name whose phone number contains P as a substring, that is a contiguous segment (for example, “436800143” contains as a substring “6800”, but not “3614”).\n",
    "\n",
    "If there is more than one contact matching the search criteria, your function should return the alphabetically smallest contact name.\n",
    "If no match is found, your function should return “NO CONTACT”.\n",
    "\n",
    "Examples:\n",
    "Given A = [“pim”, “pom”], B = [“999999999”, “777888999”] and P = “88999”, your function should return “pom”, because only pom’s phone number contains “88999”.\n",
    "Given A = [“sander”, “amy”, “ann”, “michael”], B = [“123456789”, “234567890”, “789123456”, ‘“123123123”’] and P = “1”, your function should return “ann”. Note that sander, ann and michael’s phone number contain “1” but “ann” is alphabetically smaller."
   ]
  },
  {
   "cell_type": "markdown",
   "id": "8858bbdc-bcdf-4648-add3-f475ded1bae8",
   "metadata": {},
   "source": [
    "### Submitted Answer"
   ]
  },
  {
   "cell_type": "code",
   "execution_count": 134,
   "id": "303fcf9a-9197-43fa-9d1a-ce027014a058",
   "metadata": {},
   "outputs": [],
   "source": [
    "import time\n",
    "\n",
    "def findContact(A, B, P):\n",
    "    st = time.time()\n",
    "    \n",
    "    contactFound = []\n",
    "    #O(n)\n",
    "    for i in range(len(B)):\n",
    "        #O(m), m = longest phone number\n",
    "        if P in B[i]:\n",
    "            contactFound.append(A[i])\n",
    "    \n",
    "    #O(n log n)\n",
    "    contactFound.sort()\n",
    "    if contactFound[0]:\n",
    "        print(contactFound[0])\n",
    "    else:\n",
    "        print(\"NO CONTACT\")\n",
    "    \n",
    "    et = time.time()\n",
    "    elapsed = et - st\n",
    "    print(elapsed)\n",
    "    #Total Time Complexity: O(n log n) / O(n * m)\n",
    "    #Total Space Complexity: O(n)"
   ]
  },
  {
   "cell_type": "code",
   "execution_count": 140,
   "id": "bafef256-8c99-45df-b14d-edbca45c5bc2",
   "metadata": {},
   "outputs": [
    {
     "name": "stdout",
     "output_type": "stream",
     "text": [
      "pom\n",
      "0.00016999244689941406\n"
     ]
    }
   ],
   "source": [
    "test_a, test_b, test_p = ['pim', 'pom'], ['999999999', '777888999'], '88999'\n",
    "findContact(test_a, test_b, test_p)"
   ]
  },
  {
   "cell_type": "code",
   "execution_count": 141,
   "id": "24630826-ec31-4665-8a88-b4243fa2b478",
   "metadata": {},
   "outputs": [
    {
     "name": "stdout",
     "output_type": "stream",
     "text": [
      "ann\n",
      "0.0002338886260986328\n"
     ]
    }
   ],
   "source": [
    "test_a, test_b, test_p = ['sander', 'amy', 'ann', 'michael'], ['123456789', '234567890', '789123456', '123123123'], '1'\n",
    "findContact(test_a, test_b, test_p)"
   ]
  },
  {
   "cell_type": "markdown",
   "id": "e3f04852-a9a3-4b74-abb0-10cdee231b1a",
   "metadata": {},
   "source": [
    "### Reduce Space complexity"
   ]
  },
  {
   "cell_type": "code",
   "execution_count": 142,
   "id": "d4b7b3ee-f54d-4d62-91b1-a577f146e9d9",
   "metadata": {},
   "outputs": [],
   "source": [
    "def findContact2(A, B, P):\n",
    "    st = time.time()\n",
    "    \n",
    "    contactFound = \"\"\n",
    "    #O(n)\n",
    "    for i in range(len(B)):\n",
    "        #O(m), m = longest phone number\n",
    "        if P in B[i]:\n",
    "            if A[i] < contactFound or not contactFound:\n",
    "                contactFound = A[i]\n",
    "    \n",
    "    if contactFound:\n",
    "        print(contactFound)\n",
    "    else:\n",
    "        print('NO CONTACT')\n",
    "    \n",
    "    et = time.time()\n",
    "    elapsed = et - st\n",
    "    print(elapsed)\n",
    "    #Total Time Complexity: O(m * n)\n",
    "    #Total Space Complexity: O(1)"
   ]
  },
  {
   "cell_type": "code",
   "execution_count": 143,
   "id": "15ae1415-54fb-4381-bac5-7e7db292983e",
   "metadata": {},
   "outputs": [
    {
     "name": "stdout",
     "output_type": "stream",
     "text": [
      "ann\n",
      "0.0003077983856201172\n"
     ]
    }
   ],
   "source": [
    "test_a, test_b, test_p = ['sander', 'amy', 'ann', 'michael'], ['123456789', '234567890', '789123456', '123123123'], '1'\n",
    "findContact2(test_a, test_b, test_p)"
   ]
  },
  {
   "cell_type": "code",
   "execution_count": 144,
   "id": "67da1b59-569d-4510-9368-70cf5582e207",
   "metadata": {},
   "outputs": [
    {
     "name": "stdout",
     "output_type": "stream",
     "text": [
      "pom\n",
      "0.00017714500427246094\n"
     ]
    }
   ],
   "source": [
    "test_a, test_b, test_p = ['pim', 'pom'], ['999999999', '777888999'], '88999'\n",
    "findContact2(test_a, test_b, test_p)"
   ]
  },
  {
   "cell_type": "code",
   "execution_count": 131,
   "id": "e8d604fb-a881-4e1a-bae5-a178b4aa417d",
   "metadata": {},
   "outputs": [],
   "source": [
    "#checking if s2 is substring of s1\n",
    "def subString(s1, s2):\n",
    "    s1_pointer, s2_pointer = 0, 0\n",
    "    len_s1, len_s2 = len(s1), len(s2)\n",
    "    \n",
    "    if not s2:\n",
    "        return True\n",
    "    \n",
    "    while s1_pointer < len_s1:        \n",
    "        if s1[s1_pointer] == s2[s2_pointer]:\n",
    "            s2_pointer += 1\n",
    "        else:\n",
    "            s1_pointer -= s2_pointer\n",
    "            s2_pointer = 0\n",
    "            \n",
    "        if s2_pointer == len_s2:\n",
    "            return True\n",
    "        s1_pointer += 1\n",
    "        \n",
    "    \n",
    "    return False\n",
    "        \n",
    " \n",
    "        "
   ]
  },
  {
   "cell_type": "code",
   "execution_count": 132,
   "id": "d7634bf2-a6f1-463d-9bc1-f263061dac5f",
   "metadata": {},
   "outputs": [
    {
     "data": {
      "text/plain": [
       "False"
      ]
     },
     "execution_count": 132,
     "metadata": {},
     "output_type": "execute_result"
    }
   ],
   "source": [
    "subString('777888999','8899999999999')"
   ]
  },
  {
   "cell_type": "markdown",
   "id": "eee87f57-240c-49e8-a684-4152cc33ff64",
   "metadata": {},
   "source": [
    "## OCR Text\n",
    "OCR text can sometime cannot read character from source, so it will be replaced with question mark \"?\"\n",
    "for example, apple can be translated as a??le by OCR because two p characters are unreadable.\n",
    "for example, aaaaaaaaaaaaa can be ?????????????\n",
    "but to save space it is interpret as a13\n",
    "\n",
    "given two ocr texts, compare if they COULD be equal\n",
    "a2le and app?e are equal"
   ]
  },
  {
   "cell_type": "code",
   "execution_count": 1,
   "id": "744bf8fa-c9bd-44f0-a60e-b7c215953605",
   "metadata": {},
   "outputs": [],
   "source": [
    "def processStr(s):\n",
    "    res = []\n",
    "    i, n = 0, len(s)\n",
    "    \n",
    "    while i < n:\n",
    "        if s[i].isdigit():\n",
    "            count = 0\n",
    "            while (i<n) and (s[i].isdigit()):\n",
    "                count = (count * 10) + int(s[i])\n",
    "                i += 1\n",
    "            i -= 1\n",
    "            for j in range(count):\n",
    "                res.append('?')\n",
    "        else:\n",
    "            res.append(s[i])\n",
    "        \n",
    "        i += 1\n",
    "    res_str = ''.join(res)\n",
    "    return res_str"
   ]
  },
  {
   "cell_type": "code",
   "execution_count": 11,
   "id": "d31cd1c0-8fea-49bf-9d01-dd219835daad",
   "metadata": {},
   "outputs": [],
   "source": [
    "def ocrCompare(s, t):\n",
    "    #O(n + m)\n",
    "    s_ = processStr(s)\n",
    "    t_ = processStr(t)\n",
    "    \n",
    "    if len(s_) != len(t_):\n",
    "        return False\n",
    "    \n",
    "    for i in range(len(s_)):\n",
    "        if s_[i] == '?' or t_[i] == '?':\n",
    "            continue\n",
    "        elif s_[i] != t_[i]:\n",
    "            return False\n",
    "    \n",
    "    return True\n",
    "    "
   ]
  },
  {
   "cell_type": "code",
   "execution_count": 12,
   "id": "399285a7-0f9d-4f52-84ba-41a8aac300aa",
   "metadata": {},
   "outputs": [
    {
     "name": "stdout",
     "output_type": "stream",
     "text": [
      "True\n"
     ]
    }
   ],
   "source": [
    "print(ocrCompare('a2le', 'app?e'))"
   ]
  },
  {
   "cell_type": "code",
   "execution_count": 15,
   "id": "cca79056-12d3-4891-ac1a-b7ae90ef5ddd",
   "metadata": {},
   "outputs": [],
   "source": [
    "def pointerCompare(s, t):\n",
    "    p1, p2 = 0, 0\n",
    "    \n",
    "    while p1 < len(s) and p2 < len(s):\n",
    "        if s[p1].isdigit():\n",
    "            count = 0\n",
    "            while (p1 < len(s)) and (s[p1].isdigit()):\n",
    "                count = (count * 10) + int(s[p1])\n",
    "                p1 += 1\n",
    "            p2 += count\n",
    "        \n",
    "        if t[p2].isdigit():\n",
    "            count = 0\n",
    "            while (p2 < len(t)) and (t[p2].isdigit()):\n",
    "                count = (count * 10) + int(t[p2])\n",
    "                p2 += 1\n",
    "            p1 += count\n",
    "        \n",
    "        if s[p1] == '?' or t[p2] == '?':\n",
    "            p2 += 1\n",
    "            p1 += 1\n",
    "        \n",
    "        if s[p1] != t[p2]:\n",
    "            return False\n",
    "        \n",
    "        p1 += 1\n",
    "        p2 += 1\n",
    "    \n",
    "    return True\n",
    "        \n",
    "    "
   ]
  },
  {
   "cell_type": "code",
   "execution_count": 22,
   "id": "9cf12d7c-94dc-4c1f-9904-3e2b10e1be9c",
   "metadata": {},
   "outputs": [
    {
     "name": "stdout",
     "output_type": "stream",
     "text": [
      "False\n"
     ]
    }
   ],
   "source": [
    "print(pointerCompare('ap?ee', 'app?e'))"
   ]
  },
  {
   "cell_type": "code",
   "execution_count": null,
   "id": "cd1608a0-6fe1-4f09-9984-25ce5b73a481",
   "metadata": {},
   "outputs": [],
   "source": []
  }
 ],
 "metadata": {
  "kernelspec": {
   "display_name": "Python 3 (ipykernel)",
   "language": "python",
   "name": "python3"
  },
  "language_info": {
   "codemirror_mode": {
    "name": "ipython",
    "version": 3
   },
   "file_extension": ".py",
   "mimetype": "text/x-python",
   "name": "python",
   "nbconvert_exporter": "python",
   "pygments_lexer": "ipython3",
   "version": "3.9.0"
  }
 },
 "nbformat": 4,
 "nbformat_minor": 5
}

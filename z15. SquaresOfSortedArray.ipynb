{
 "cells": [
  {
   "cell_type": "markdown",
   "id": "19930f8a-fd93-481e-8714-d84f9c6ba381",
   "metadata": {},
   "source": [
    "## Squares of Sorted Array\n",
    "\n",
    "Given an integer array nums sorted in non-decreasing order, return an array of the squares of each number sorted in non-decreasing order.\n",
    "\n",
    "The solution using Python is fairly straight-forward, utilizing python's sorted() and enumerate function.\n",
    "\n",
    "TC: O(n log n)"
   ]
  },
  {
   "cell_type": "code",
   "execution_count": 1,
   "id": "a745cff4-07a0-4407-ae20-7c249b8a6ba3",
   "metadata": {},
   "outputs": [],
   "source": [
    "def sortedSquares(nums):\n",
    "    for i, num in enumerate(nums):\n",
    "        nums[i] = num ** 2\n",
    "    return sorted(nums)"
   ]
  },
  {
   "cell_type": "markdown",
   "id": "f4c94549-7a76-428f-8c20-71dd369e4344",
   "metadata": {},
   "source": [
    "**Test 1**\n",
    "\n",
    "Input: nums = [-4,-1,0,3,10]\n",
    "\n",
    "Output: [0,1,9,16,100]"
   ]
  },
  {
   "cell_type": "code",
   "execution_count": 2,
   "id": "e069dcd7-0449-4b15-b60c-6ead1a9ea7a9",
   "metadata": {},
   "outputs": [
    {
     "name": "stdout",
     "output_type": "stream",
     "text": [
      "[0, 1, 9, 16, 100]\n"
     ]
    }
   ],
   "source": [
    "test = sortedSquares([-4, -1, 0, 3, 10])\n",
    "\n",
    "print(test)"
   ]
  },
  {
   "cell_type": "markdown",
   "id": "5f8a9701-2877-4c8e-8ba4-effa52ff404d",
   "metadata": {},
   "source": [
    "**Test 2**\n",
    "\n",
    "Input: nums = [-7,-3,2,3,11]\n",
    "\n",
    "Output: [4,9,9,49,121]"
   ]
  },
  {
   "cell_type": "code",
   "execution_count": 3,
   "id": "0ae98f3d-42eb-4846-9b5b-47cf968f64ae",
   "metadata": {},
   "outputs": [
    {
     "name": "stdout",
     "output_type": "stream",
     "text": [
      "[4, 9, 9, 49, 121]\n"
     ]
    }
   ],
   "source": [
    "test = sortedSquares([-7,-3,2,3,11])\n",
    "\n",
    "print(test)"
   ]
  },
  {
   "cell_type": "code",
   "execution_count": null,
   "id": "97fcbf20-cbfb-4766-a1d8-781e9c023ee8",
   "metadata": {},
   "outputs": [],
   "source": []
  }
 ],
 "metadata": {
  "kernelspec": {
   "display_name": "Python 3 (ipykernel)",
   "language": "python",
   "name": "python3"
  },
  "language_info": {
   "codemirror_mode": {
    "name": "ipython",
    "version": 3
   },
   "file_extension": ".py",
   "mimetype": "text/x-python",
   "name": "python",
   "nbconvert_exporter": "python",
   "pygments_lexer": "ipython3",
   "version": "3.9.0"
  }
 },
 "nbformat": 4,
 "nbformat_minor": 5
}

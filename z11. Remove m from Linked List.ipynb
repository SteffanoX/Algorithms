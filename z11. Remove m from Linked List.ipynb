{
 "cells": [
  {
   "cell_type": "markdown",
   "id": "a2a26522-2b55-4d62-95c3-aa8d2c69dd5e",
   "metadata": {},
   "source": [
    "### Remove Nth Node from End of List\n",
    "\n",
    "Given the head of a linked list, remove the nth node from the end of the list and return its head."
   ]
  },
  {
   "cell_type": "markdown",
   "id": "91aa19d4-2ff3-4cc6-b6cf-00601b4987bb",
   "metadata": {},
   "source": [
    "**Creating a Linked List**"
   ]
  },
  {
   "cell_type": "code",
   "execution_count": 6,
   "id": "d0a97109-0f4f-4c64-83ae-7bbc34803eb1",
   "metadata": {},
   "outputs": [],
   "source": [
    "# class for the node\n",
    "class ListNode(object):\n",
    "    def __init__(self,x):\n",
    "        self.val = x\n",
    "        self.next = None\n",
    "        \n",
    "# class for the linked list         \n",
    "class createLinkedList(object):\n",
    "    def __init__(self):\n",
    "        self.head = None \n",
    "    \n",
    "    def insert(self,lists):\n",
    "        head = self\n",
    "        for i in range(0,len(lists)): \n",
    "            if i==0:\n",
    "                node = ListNode(lists[0])\n",
    "                self.head = node\n",
    "            else:\n",
    "                node.next = ListNode(lists[i])\n",
    "                node = node.next  \n",
    "\n",
    "    # Print the linked list\n",
    "    def display(self):\n",
    "        printval = self.head\n",
    "        lists=[]\n",
    "        while printval is not None:\n",
    "            lists.append(printval.val)\n",
    "            printval = printval.next \n",
    "        print(lists)"
   ]
  },
  {
   "cell_type": "markdown",
   "id": "37eb73d2-0e50-46e8-b14f-66ab066296da",
   "metadata": {},
   "source": [
    "##### Approach\n",
    "\n",
    "The approach is to derive the Length of the Given Linked List, find how many nodes are before the Nth node and re-link the node before.\n",
    "\n",
    "  1. Find the length of the Linked List\n",
    "  2. If n = length of linked list, head node to be removes, return head.next\n",
    "  3. Calculate the number of nodes before N, (length - n) - 1\n",
    "  4. traverse to the node before N and relink the link list, node.next = node.next.next"
   ]
  },
  {
   "cell_type": "code",
   "execution_count": 7,
   "id": "f412627e-5bd1-4a6b-91e3-f8fd8ec566d8",
   "metadata": {},
   "outputs": [],
   "source": [
    "def removeNthFromEnd(head, n):\n",
    "    \"\"\"\n",
    "    :type head: ListNode\n",
    "    :type n: int\n",
    "    :rtype: ListNode\n",
    "    \"\"\"\n",
    "    temp = head\n",
    "    left = head\n",
    "    length = 0\n",
    "    while temp:\n",
    "        length += 1\n",
    "        temp = temp.next\n",
    "    #nth from last means length - n from front, 1 before nth means (length - n) - 1\n",
    "    if n == length:\n",
    "        return head.next\n",
    "\n",
    "    beforeN = (length - n) - 1\n",
    "    for i in range(beforeN):\n",
    "        left = left.next\n",
    "    left.next = left.next.next\n",
    "    return head"
   ]
  },
  {
   "cell_type": "markdown",
   "id": "bd19b17a-2c38-4efb-999b-34d35f8dc521",
   "metadata": {},
   "source": [
    "**Test**\n",
    "\n",
    "Input = [1,2,3,4,5], n=2\n",
    "\n",
    "Output = [1,2,3,5]"
   ]
  },
  {
   "cell_type": "code",
   "execution_count": 19,
   "id": "184f619e-25e6-48b7-bdb3-24daa6605454",
   "metadata": {},
   "outputs": [
    {
     "name": "stdout",
     "output_type": "stream",
     "text": [
      "[1, 2, 3, 5]\n"
     ]
    }
   ],
   "source": [
    "LinkedList = createLinkedList() \n",
    "LinkedList.insert([1,2,3,4,5])\n",
    "headNode = LinkedList.head\n",
    "\n",
    "test = removeNthFromEnd(headNode, 2)\n",
    "LinkedList.display()"
   ]
  }
 ],
 "metadata": {
  "kernelspec": {
   "display_name": "Python 3 (ipykernel)",
   "language": "python",
   "name": "python3"
  },
  "language_info": {
   "codemirror_mode": {
    "name": "ipython",
    "version": 3
   },
   "file_extension": ".py",
   "mimetype": "text/x-python",
   "name": "python",
   "nbconvert_exporter": "python",
   "pygments_lexer": "ipython3",
   "version": "3.9.0"
  }
 },
 "nbformat": 4,
 "nbformat_minor": 5
}
